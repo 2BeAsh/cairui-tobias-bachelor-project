{
 "cells": [
  {
   "cell_type": "code",
   "execution_count": 1,
   "id": "08af4f57",
   "metadata": {},
   "outputs": [],
   "source": [
    "import numpy as np\n",
    "import field_velocity\n",
    "import matplotlib.pyplot as plt \n",
    "from mpl_toolkits.axes_grid1 import make_axes_locatable\n",
    "import bem_two_objects as bem"
   ]
  },
  {
   "cell_type": "code",
   "execution_count": null,
   "id": "6234e79e",
   "metadata": {},
   "outputs": [],
   "source": []
  },
  {
   "cell_type": "code",
   "execution_count": null,
   "id": "36cfd9c6",
   "metadata": {},
   "outputs": [],
   "source": []
  },
  {
   "cell_type": "code",
   "execution_count": null,
   "id": "766e1fcc",
   "metadata": {},
   "outputs": [],
   "source": []
  },
  {
   "cell_type": "code",
   "execution_count": null,
   "id": "cda5e54f",
   "metadata": {},
   "outputs": [],
   "source": []
  },
  {
   "cell_type": "markdown",
   "id": "9610fc40",
   "metadata": {},
   "source": [
    "2 obj:"
   ]
  },
  {
   "cell_type": "code",
   "execution_count": 3,
   "id": "577c8cac",
   "metadata": {},
   "outputs": [],
   "source": [
    "N1=80\n",
    "max_mode=2\n",
    "squirmer_radius=1\n",
    "radius_obj2=1\n",
    "x1_center=np.array([0,0,0])\n",
    "x2_center=np.array([0,0,100])\n",
    "\n",
    "B= np.zeros([max_mode+1, max_mode+1])\n",
    "B_tilde = B\n",
    "C_tilde = B\n",
    "C =B\n",
    "\n",
    "B[0,0 ]= 1\n",
    "eps = 0.01\n",
    "viscosity = 1\n",
    "\n",
    "\n",
    "\n",
    "\n",
    "force_with_condition, x1_surface, x2_surface = bem.force_surface_two_objects(N1, max_mode, squirmer_radius, radius_obj2, x1_center, x2_center, np.array([B, B_tilde, C, C_tilde]), eps, viscosity, lab_frame=True, return_points=True)\n",
    "\n",
    "force = force_with_condition[:-12]  "
   ]
  },
  {
   "cell_type": "code",
   "execution_count": null,
   "id": "6910e860",
   "metadata": {},
   "outputs": [],
   "source": []
  }
 ],
 "metadata": {
  "kernelspec": {
   "display_name": "Python 3 (ipykernel)",
   "language": "python",
   "name": "python3"
  },
  "language_info": {
   "codemirror_mode": {
    "name": "ipython",
    "version": 3
   },
   "file_extension": ".py",
   "mimetype": "text/x-python",
   "name": "python",
   "nbconvert_exporter": "python",
   "pygments_lexer": "ipython3",
   "version": "3.9.13"
  }
 },
 "nbformat": 4,
 "nbformat_minor": 5
}

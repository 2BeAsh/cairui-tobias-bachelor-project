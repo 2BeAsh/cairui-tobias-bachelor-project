{
 "cells": [
  {
   "cell_type": "code",
   "execution_count": 1,
   "id": "a645d2e4",
   "metadata": {},
   "outputs": [],
   "source": [
    "import sympy as sp\n",
    "from sympy.plotting import plot\n",
    "import numpy as np\n",
    "import matplotlib.pyplot as plt\n",
    "from scipy.special import lpmv"
   ]
  },
  {
   "cell_type": "code",
   "execution_count": 2,
   "id": "e62a7b1a",
   "metadata": {},
   "outputs": [
    {
     "data": {
      "text/latex": [
       "$\\displaystyle \\sin^{2}{\\left(\\theta \\right)} \\cos{\\left(\\theta \\right)}$"
      ],
      "text/plain": [
       "sin(theta)**2*cos(theta)"
      ]
     },
     "metadata": {},
     "output_type": "display_data"
    },
    {
     "data": {
      "text/latex": [
       "$\\displaystyle - \\sin^{3}{\\left(\\theta \\right)} + 2 \\sin{\\left(\\theta \\right)} \\cos^{2}{\\left(\\theta \\right)}$"
      ],
      "text/plain": [
       "-sin(theta)**3 + 2*sin(theta)*cos(theta)**2"
      ]
     },
     "metadata": {},
     "output_type": "display_data"
    }
   ],
   "source": [
    "r, theta, phi, A, A_tilde, a = sp.symbols('r theta phi A A_tilde a')\n",
    "n, m = sp.symbols('n m', integer= True)\n",
    "\n",
    "func_r =sp.cos(theta)*sp.sin(theta)**2\n",
    "display(func_r)\n",
    "display(sp.diff(func_r,theta)) #integral grænser\n"
   ]
  },
  {
   "cell_type": "code",
   "execution_count": 3,
   "id": "a1b2c45f",
   "metadata": {},
   "outputs": [
    {
     "data": {
      "text/latex": [
       "$\\displaystyle - \\left(n + 1\\right) \\sin^{2}{\\left(\\theta \\right)} + \\sin^{3}{\\left(\\theta \\right)} - 2 \\sin{\\left(\\theta \\right)} \\cos^{2}{\\left(\\theta \\right)} + 1$"
      ],
      "text/plain": [
       "-(n + 1)*sin(theta)**2 + sin(theta)**3 - 2*sin(theta)*cos(theta)**2 + 1"
      ]
     },
     "metadata": {},
     "output_type": "display_data"
    },
    {
     "data": {
      "text/latex": [
       "$\\displaystyle \\theta + \\left(- n - 1\\right) \\left(\\frac{\\theta}{2} - \\frac{\\sin{\\left(\\theta \\right)} \\cos{\\left(\\theta \\right)}}{2}\\right) + \\cos^{3}{\\left(\\theta \\right)} - \\cos{\\left(\\theta \\right)}$"
      ],
      "text/plain": [
       "theta + (-n - 1)*(theta/2 - sin(theta)*cos(theta)/2) + cos(theta)**3 - cos(theta)"
      ]
     },
     "metadata": {},
     "output_type": "display_data"
    },
    {
     "data": {
      "text/latex": [
       "$\\displaystyle \\frac{\\pi \\left(- n - 1\\right)}{2} + \\pi$"
      ],
      "text/plain": [
       "pi*(-n - 1)/2 + pi"
      ]
     },
     "metadata": {},
     "output_type": "display_data"
    }
   ],
   "source": [
    "theta_int = -sp.sin(theta)**2*(n+1) + sp.sin(theta)**3 - 2*sp.sin(theta)*sp.cos(theta)**2 + 1\n",
    "display(theta_int)\n",
    "display(sp.integrate(theta_int,(theta))) #integral grænser\n",
    "\n",
    "display(sp.integrate(theta_int,(theta, 0,sp.pi))) #integral grænser\n"
   ]
  },
  {
   "cell_type": "code",
   "execution_count": 4,
   "id": "893f736e",
   "metadata": {},
   "outputs": [
    {
     "data": {
      "text/latex": [
       "$\\displaystyle \\left(A \\cos{\\left(m \\phi \\right)} + A_{tilde} \\sin{\\left(m \\phi \\right)}\\right) \\cos{\\left(\\phi \\right)}$"
      ],
      "text/plain": [
       "(A*cos(m*phi) + A_tilde*sin(m*phi))*cos(phi)"
      ]
     },
     "metadata": {},
     "output_type": "display_data"
    },
    {
     "data": {
      "text/latex": [
       "$\\displaystyle \\begin{cases} \\pi A & \\text{for}\\: m = -1 \\vee m = 1 \\\\0 & \\text{otherwise} \\end{cases}$"
      ],
      "text/plain": [
       "Piecewise((pi*A, Eq(m, -1) | Eq(m, 1)), (0, True))"
      ]
     },
     "metadata": {},
     "output_type": "display_data"
    }
   ],
   "source": [
    "func_phi = (A*sp.cos(m*phi) + A_tilde * sp.sin(m*phi))*sp.cos(phi)\n",
    "display(func_phi)\n",
    "display(sp.integrate(func_phi,(phi, 0, 2*sp.pi))) #integral grænser\n"
   ]
  },
  {
   "cell_type": "code",
   "execution_count": 5,
   "id": "e61ba097",
   "metadata": {},
   "outputs": [
    {
     "data": {
      "text/latex": [
       "$\\displaystyle \\left(- A m \\sin{\\left(m \\phi \\right)} + A_{tilde} m \\cos{\\left(m \\phi \\right)}\\right) \\sin{\\left(\\phi \\right)}$"
      ],
      "text/plain": [
       "(-A*m*sin(m*phi) + A_tilde*m*cos(m*phi))*sin(phi)"
      ]
     },
     "metadata": {},
     "output_type": "display_data"
    },
    {
     "data": {
      "text/latex": [
       "$\\displaystyle \\begin{cases} - \\pi A & \\text{for}\\: m = -1 \\vee m = 1 \\\\0 & \\text{otherwise} \\end{cases}$"
      ],
      "text/plain": [
       "Piecewise((-pi*A, Eq(m, -1) | Eq(m, 1)), (0, True))"
      ]
     },
     "metadata": {},
     "output_type": "display_data"
    }
   ],
   "source": [
    "func_phi = (-A*sp.sin(m*phi)*m + A_tilde * sp.cos(m*phi)*m)*sp.sin(phi)\n",
    "display(func_phi)\n",
    "display(sp.integrate(func_phi,(phi, 0, 2*sp.pi))) #integral grænser\n"
   ]
  },
  {
   "cell_type": "code",
   "execution_count": 6,
   "id": "3c0613d4",
   "metadata": {},
   "outputs": [],
   "source": [
    "def legendre_poly_cos(n1, m1, x):\n",
    "    if n1 == 1 and m1 == 0:\n",
    "        return sp.cos(x)\n",
    "    elif n1==1 and m1 == -1:\n",
    "        return 1/2 * sp.sin(x)\n",
    "    elif n1 == 2 and m1 == 0:\n",
    "        return 1 / 2 * (3 * sp.cos(x) ** 2 - 1)\n",
    "    elif n1 == 3 and m1 == 0:\n",
    "        return 1 / 2 * (5 * sp.cos(x) ** 3 - 3 * sp.cos(x))\n",
    "    elif n1 == 4 and m1 == 0:\n",
    "        return 1 / 8 * (35 * sp.cos(x) ** 4 - 30 * sp.cos(x) ** 2 + 3)\n",
    "    elif n1 == 1 and m1 == 1:\n",
    "        return -sp.sin(x)\n",
    "    elif n1 == 2 and m1 == 1:\n",
    "        return -3 * sp.cos(x) * sp.sin(x)\n",
    "    elif n1 == 2 and m1 == 2:\n",
    "        return 3*sp.sin(x) ** 2\n",
    "    elif n1 == 3 and m1 == 1:\n",
    "        return 3/2 * (1 - 5 * sp.cos(x)**2)*(1 - sp.cos(x)**2)**(1/2)\n",
    "    elif n1 == 3 and m1 == 2:\n",
    "        return 15 * sp.cos(x) * (1 - sp.cos(x) ** 2)\n",
    "    elif n1 == 3 and m1 == 3:\n",
    "        return -15 * (1 - sp.cos(x) ** 2) ** (3 / 2)\n",
    "    elif n1 == 4 and m1 == 1:\n",
    "        return 5/2 * sp.cos(x) * (3 - 7 * sp.cos(x) ** 2) * ( 1 - sp.cos(x) ** 2) ** (1 / 2)\n",
    "    elif n1 == 4 and m1 == 2:\n",
    "        return 15/2 * (7 * sp.cos(x) ** 2 - 1) * (1 - sp.cos(x) ** 2) \n",
    "    elif n1 == 4 and m1 == 3:\n",
    "        return -105 * sp.cos(x) * (1 - sp.cos(x) ** 2) ** (3 / 2)\n",
    "    elif n1 == 4 and m1 == 4:\n",
    "        return 105*(1 - sp.cos(x)**2)**2\n",
    "    \n",
    "def legendre_poly(n1, m1, x):\n",
    "    if n1 == 1 and m1 == 0:\n",
    "        return x\n",
    "    elif n1 == 2 and m1 == 0:\n",
    "        return 1 / 2 * (3 * x ** 2 - 1)\n",
    "    elif n1 == 3 and m1 == 0:\n",
    "        return 1 / 2 * (5 * x ** 3 - 3 * x)\n",
    "    elif n1 == 4 and m1 == 0:\n",
    "        return 1 / 8 * (35 * x ** 4 - 30 * x ** 2 + 3)\n",
    "    elif n1 == 1 and m1 == 1:\n",
    "        return -(1-x**2)**(1/2)\n",
    "    elif n1 == 2 and m1 == 1:\n",
    "        return -3 * x * (1-x**2)**(1/2)\n",
    "    elif n1 == 2 and m1 == 2:\n",
    "        return 3*(1-x**2)\n",
    "    elif n1 == 3 and m1 == 1:\n",
    "        return 3/2 * (1 - 5 * x**2)*(1 - x**2)**(1/2)\n",
    "    elif n1 == 3 and m1 == 2:\n",
    "        return 15 * x * (1 -x ** 2)\n",
    "    elif n1 == 3 and m1 == 3:\n",
    "        return -15 * (1 - x ** 2) ** (3 / 2)\n",
    "    elif n1 == 4 and m1 == 1:\n",
    "        return 5/2 * x * (3 - 7 * x ** 2) * ( 1 - x ** 2) ** (1 / 2)\n",
    "    elif n1 == 4 and m1 == 2:\n",
    "        return 15/2 * (7 * x ** 2 - 1) * (1 -x ** 2) \n",
    "    elif n1 == 4 and m1 == 3:\n",
    "        return -105 * x * (1 - x ** 2) ** (3 / 2)\n",
    "    elif n1 == 4 and m1 == 4:\n",
    "        return 105*(1 - x**2)**2\n",
    "    elif n1==5 and m1==1:\n",
    "        return 9/4*x* ( 5/2 * x * (3 - 7 * x ** 2) * ( 1 - x ** 2) ** (1 / 2)) - 5/4 * 3/2 * (1 - 5 * x**2)*(1 - x**2)**(1/2)\n",
    "    elif n1==5 and m1==2:\n",
    "        return 3*x*15/2 * (7 * x ** 2 - 1) * (1 -x ** 2) - 2 * 15 * x * (1 -x ** 2)\n",
    "    elif n1<m1:\n",
    "        return 0"
   ]
  },
  {
   "cell_type": "code",
   "execution_count": 7,
   "id": "bc1573ed",
   "metadata": {},
   "outputs": [
    {
     "data": {
      "text/latex": [
       "$\\displaystyle - \\left(1 - \\theta^{2}\\right)^{0.5}$"
      ],
      "text/plain": [
       "-(1 - theta**2)**0.5"
      ]
     },
     "execution_count": 7,
     "metadata": {},
     "output_type": "execute_result"
    }
   ],
   "source": [
    "legendre_poly(1,1, theta)"
   ]
  },
  {
   "cell_type": "code",
   "execution_count": 8,
   "id": "25ef1b83",
   "metadata": {
    "scrolled": true
   },
   "outputs": [
    {
     "data": {
      "text/latex": [
       "$\\displaystyle \\left(\\theta^{2} - 1\\right)^{n}$"
      ],
      "text/plain": [
       "(theta**2 - 1)**n"
      ]
     },
     "metadata": {},
     "output_type": "display_data"
    },
    {
     "data": {
      "text/latex": [
       "$\\displaystyle 2 e^{i \\pi n} {{}_{2}F_{1}\\left(\\begin{matrix} \\frac{1}{2}, - n \\\\ \\frac{3}{2} \\end{matrix}\\middle| {1} \\right)}$"
      ],
      "text/plain": [
       "2*exp(I*pi*n)*hyper((1/2, -n), (3/2,), 1)"
      ]
     },
     "metadata": {},
     "output_type": "display_data"
    }
   ],
   "source": [
    "n1=3\n",
    "m1=0\n",
    "func_theta = ( theta**2 -1)**n\n",
    "display(func_theta)\n",
    "\n",
    "display(sp.integrate(func_theta,(theta, -1, 1))) #integral grænser\n"
   ]
  },
  {
   "cell_type": "code",
   "execution_count": 17,
   "id": "d55d1dd4",
   "metadata": {},
   "outputs": [
    {
     "data": {
      "text/plain": [
       "-1.125630669495903"
      ]
     },
     "execution_count": 17,
     "metadata": {},
     "output_type": "execute_result"
    }
   ],
   "source": [
    "t = np.linspace(0, np.pi, 4_000_000)\n",
    "l = legendre_poly(5,1, np.cos(t))\n",
    "l*= -np.sin(t)**2 * (5+1) + np.sin(t)**3 - 2*np.sin(t)*np.cos(t)**2 + 1\n",
    "dt = np.pi/4_000_000\n",
    "np.sum(dt*l)"
   ]
  },
  {
   "cell_type": "code",
   "execution_count": null,
   "id": "b7d6aecf",
   "metadata": {},
   "outputs": [],
   "source": []
  },
  {
   "cell_type": "code",
   "execution_count": 18,
   "id": "fea278d1",
   "metadata": {},
   "outputs": [
    {
     "data": {
      "text/plain": [
       "[<matplotlib.lines.Line2D at 0x29661c758e0>]"
      ]
     },
     "execution_count": 18,
     "metadata": {},
     "output_type": "execute_result"
    },
    {
     "data": {
      "image/png": "[encoded data removed]",
      "text/plain": [
       "<Figure size 640x480 with 1 Axes>"
      ]
     },
     "metadata": {},
     "output_type": "display_data"
    }
   ],
   "source": [
    "plt.plot(t, l)"
   ]
  },
  {
   "cell_type": "markdown",
   "id": "087db4a7",
   "metadata": {},
   "source": []
  },
  {
   "cell_type": "code",
   "execution_count": null,
   "id": "dab63d87",
   "metadata": {},
   "outputs": [],
   "source": []
  }
 ],
 "metadata": {
  "kernelspec": {
   "display_name": "Python 3 (ipykernel)",
   "language": "python",
   "name": "python3"
  },
  "language_info": {
   "codemirror_mode": {
    "name": "ipython",
    "version": 3
   },
   "file_extension": ".py",
   "mimetype": "text/x-python",
   "name": "python",
   "nbconvert_exporter": "python",
   "pygments_lexer": "ipython3",
   "version": "3.9.13"
  }
 },
 "nbformat": 4,
 "nbformat_minor": 5
}

{
 "cells": [
  {
   "cell_type": "code",
   "execution_count": 1,
   "id": "a645d2e4",
   "metadata": {},
   "outputs": [],
   "source": [
    "import sympy as sp\n",
    "from sympy.plotting import plot\n",
    "import numpy as np\n",
    "import matplotlib.pyplot as plt\n",
    "from scipy.special import lpmv"
   ]
  },
  {
   "cell_type": "code",
   "execution_count": 27,
   "id": "e62a7b1a",
   "metadata": {},
   "outputs": [
    {
     "data": {
      "text/latex": [
       "$\\displaystyle \\cos{\\left(\\theta \\right)}$"
      ],
      "text/plain": [
       "cos(theta)"
      ]
     },
     "metadata": {},
     "output_type": "display_data"
    },
    {
     "data": {
      "text/latex": [
       "$\\displaystyle - \\sin{\\left(\\theta \\right)}$"
      ],
      "text/plain": [
       "-sin(theta)"
      ]
     },
     "metadata": {},
     "output_type": "display_data"
    }
   ],
   "source": [
    "r, theta, phi, A, A_tilde, a = sp.symbols('r theta phi A A_tilde a')\n",
    "n, m = sp.symbols('n m', integer= True)\n",
    "\n",
    "func_r =sp.cos(theta)\n",
    "display(func_r)\n",
    "display(sp.diff(func_r,theta)) #integral grænser\n"
   ]
  },
  {
   "cell_type": "code",
   "execution_count": 23,
   "id": "893f736e",
   "metadata": {},
   "outputs": [
    {
     "data": {
      "text/latex": [
       "$\\displaystyle \\left(A \\cos{\\left(m \\phi \\right)} + A_{tilde} \\sin{\\left(m \\phi \\right)}\\right) \\cos{\\left(\\phi \\right)}$"
      ],
      "text/plain": [
       "(A*cos(m*phi) + A_tilde*sin(m*phi))*cos(phi)"
      ]
     },
     "metadata": {},
     "output_type": "display_data"
    },
    {
     "data": {
      "text/latex": [
       "$\\displaystyle \\begin{cases} \\pi A & \\text{for}\\: m = -1 \\vee m = 1 \\\\0 & \\text{otherwise} \\end{cases}$"
      ],
      "text/plain": [
       "Piecewise((pi*A, Eq(m, -1) | Eq(m, 1)), (0, True))"
      ]
     },
     "metadata": {},
     "output_type": "display_data"
    }
   ],
   "source": [
    "func_phi = (A*sp.cos(m*phi) + A_tilde * sp.sin(m*phi))*sp.cos(phi)\n",
    "display(func_phi)\n",
    "display(sp.integrate(func_phi,(phi, 0, 2*sp.pi))) #integral grænser\n"
   ]
  },
  {
   "cell_type": "code",
   "execution_count": 22,
   "id": "e61ba097",
   "metadata": {},
   "outputs": [
    {
     "data": {
      "text/latex": [
       "$\\displaystyle \\left(- A m \\sin{\\left(m \\phi \\right)} + A_{tilde} m \\cos{\\left(m \\phi \\right)}\\right) \\sin{\\left(\\phi \\right)}$"
      ],
      "text/plain": [
       "(-A*m*sin(m*phi) + A_tilde*m*cos(m*phi))*sin(phi)"
      ]
     },
     "metadata": {},
     "output_type": "display_data"
    },
    {
     "data": {
      "text/latex": [
       "$\\displaystyle \\begin{cases} - \\pi A & \\text{for}\\: m = -1 \\vee m = 1 \\\\0 & \\text{otherwise} \\end{cases}$"
      ],
      "text/plain": [
       "Piecewise((-pi*A, Eq(m, -1) | Eq(m, 1)), (0, True))"
      ]
     },
     "metadata": {},
     "output_type": "display_data"
    }
   ],
   "source": [
    "func_phi = (-A*sp.sin(m*phi)*m + A_tilde * sp.cos(m*phi)*m)*sp.sin(phi)\n",
    "display(func_phi)\n",
    "display(sp.integrate(func_phi,(phi, 0, 2*sp.pi))) #integral grænser\n"
   ]
  },
  {
   "cell_type": "code",
   "execution_count": 5,
   "id": "3c0613d4",
   "metadata": {},
   "outputs": [],
   "source": [
    "def legendre_poly_cos(n1, m1, x):\n",
    "    if n1 == 1 and m1 == 0:\n",
    "        return sp.cos(x)\n",
    "    elif n1==1 and m1 == -1:\n",
    "        return 1/2 * sp.sin(x)\n",
    "    elif n1 == 2 and m1 == 0:\n",
    "        return 1 / 2 * (3 * sp.cos(x) ** 2 - 1)\n",
    "    elif n1 == 3 and m1 == 0:\n",
    "        return 1 / 2 * (5 * sp.cos(x) ** 3 - 3 * sp.cos(x))\n",
    "    elif n1 == 4 and m1 == 0:\n",
    "        return 1 / 8 * (35 * sp.cos(x) ** 4 - 30 * sp.cos(x) ** 2 + 3)\n",
    "    elif n1 == 1 and m1 == 1:\n",
    "        return -sp.sin(x)\n",
    "    elif n1 == 2 and m1 == 1:\n",
    "        return -3 * sp.cos(x) * sp.sin(x)\n",
    "    elif n1 == 2 and m1 == 2:\n",
    "        return 3*sp.sin(x) ** 2\n",
    "    elif n1 == 3 and m1 == 1:\n",
    "        return 3/2 * (1 - 5 * sp.cos(x)**2)*(1 - sp.cos(x)**2)**(1/2)\n",
    "    elif n1 == 3 and m1 == 2:\n",
    "        return 15 * sp.cos(x) * (1 - sp.cos(x) ** 2)\n",
    "    elif n1 == 3 and m1 == 3:\n",
    "        return -15 * (1 - sp.cos(x) ** 2) ** (3 / 2)\n",
    "    elif n1 == 4 and m1 == 1:\n",
    "        return 5/2 * sp.cos(x) * (3 - 7 * sp.cos(x) ** 2) * ( 1 - sp.cos(x) ** 2) ** (1 / 2)\n",
    "    elif n1 == 4 and m1 == 2:\n",
    "        return 15/2 * (7 * sp.cos(x) ** 2 - 1) * (1 - sp.cos(x) ** 2) \n",
    "    elif n1 == 4 and m1 == 3:\n",
    "        return -105 * sp.cos(x) * (1 - sp.cos(x) ** 2) ** (3 / 2)\n",
    "    elif n1 == 4 and m1 == 4:\n",
    "        return 105*(1 - sp.cos(x)**2)**2\n",
    "    \n",
    "def legendre_poly(n1, m1, x):\n",
    "    if n1 == 1 and m1 == 0:\n",
    "        return x\n",
    "    elif n1 == 2 and m1 == 0:\n",
    "        return 1 / 2 * (3 * x ** 2 - 1)\n",
    "    elif n1 == 3 and m1 == 0:\n",
    "        return 1 / 2 * (5 * x ** 3 - 3 * x)\n",
    "    elif n1 == 4 and m1 == 0:\n",
    "        return 1 / 8 * (35 * x ** 4 - 30 * x ** 2 + 3)\n",
    "    elif n1 == 1 and m1 == 1:\n",
    "        return -(1-x**2)**(1/2)\n",
    "    elif n1 == 2 and m1 == 1:\n",
    "        return -3 * x * (1-x**2)**(1/2)\n",
    "    elif n1 == 2 and m1 == 2:\n",
    "        return 3*(1-x**2)\n",
    "    elif n1 == 3 and m1 == 1:\n",
    "        return 3/2 * (1 - 5 * x**2)*(1 - x**2)**(1/2)\n",
    "    elif n1 == 3 and m1 == 2:\n",
    "        return 15 * x * (1 -x ** 2)\n",
    "    elif n1 == 3 and m1 == 3:\n",
    "        return -15 * (1 - x ** 2) ** (3 / 2)\n",
    "    elif n1 == 4 and m1 == 1:\n",
    "        return 5/2 * x * (3 - 7 * x ** 2) * ( 1 - x ** 2) ** (1 / 2)\n",
    "    elif n1 == 4 and m1 == 2:\n",
    "        return 15/2 * (7 * x ** 2 - 1) * (1 -x ** 2) \n",
    "    elif n1 == 4 and m1 == 3:\n",
    "        return -105 * x * (1 - x ** 2) ** (3 / 2)\n",
    "    elif n1 == 4 and m1 == 4:\n",
    "        return 105*(1 - x**2)**2\n",
    "    elif n1==5 and m1==1:\n",
    "        return 9/4*x* ( 5/2 * x * (3 - 7 * x ** 2) * ( 1 - x ** 2) ** (1 / 2)) - 5/4 * 3/2 * (1 - 5 * x**2)*(1 - x**2)**(1/2)\n",
    "    elif n1==5 and m1==2:\n",
    "        return 3*x*15/2 * (7 * x ** 2 - 1) * (1 -x ** 2) - 2 * 15 * x * (1 -x ** 2)\n",
    "    elif n1<m1:\n",
    "        return 0"
   ]
  },
  {
   "cell_type": "code",
   "execution_count": 6,
   "id": "bc1573ed",
   "metadata": {},
   "outputs": [
    {
     "data": {
      "text/latex": [
       "$\\displaystyle - \\left(1 - \\theta^{2}\\right)^{0.5}$"
      ],
      "text/plain": [
       "-(1 - theta**2)**0.5"
      ]
     },
     "execution_count": 6,
     "metadata": {},
     "output_type": "execute_result"
    }
   ],
   "source": [
    "legendre_poly(1,1, theta)"
   ]
  },
  {
   "cell_type": "code",
   "execution_count": 20,
   "id": "25ef1b83",
   "metadata": {
    "scrolled": true
   },
   "outputs": [
    {
     "data": {
      "text/latex": [
       "$\\displaystyle \\left(1.5 \\cos^{2}{\\left(\\theta \\right)} - 0.5\\right) \\cos{\\left(\\theta \\right)} - \\cos{\\left(\\theta \\right)}$"
      ],
      "text/plain": [
       "(1.5*cos(theta)**2 - 0.5)*cos(theta) - cos(theta)"
      ]
     },
     "metadata": {},
     "output_type": "display_data"
    },
    {
     "data": {
      "text/latex": [
       "$\\displaystyle 0$"
      ],
      "text/plain": [
       "0"
      ]
     },
     "metadata": {},
     "output_type": "display_data"
    }
   ],
   "source": [
    "n1=3\n",
    "m1=0\n",
    "func_theta =-legendre_poly_cos(1,0, theta) + sp.cos(theta)*legendre_poly_cos(1+1, 0, theta)\n",
    "display(func_theta)\n",
    "\n",
    "display(sp.integrate(func_theta,(theta, 0, sp.pi))) #integral grænser\n"
   ]
  },
  {
   "cell_type": "code",
   "execution_count": 17,
   "id": "d55d1dd4",
   "metadata": {},
   "outputs": [
    {
     "data": {
      "text/plain": [
       "-0.36815519532655955"
      ]
     },
     "execution_count": 17,
     "metadata": {},
     "output_type": "execute_result"
    }
   ],
   "source": [
    "t = np.linspace(0, np.pi, 1_900_000)\n",
    "l = np.sin(t)\n",
    "l*= legendre_poly(5,1, np.cos(t))\n",
    "dt = np.pi/1_900_000\n",
    "np.sum(dt*l)"
   ]
  },
  {
   "cell_type": "code",
   "execution_count": 9,
   "id": "fea278d1",
   "metadata": {},
   "outputs": [
    {
     "data": {
      "text/plain": [
       "[<matplotlib.lines.Line2D at 0x1f2ab87eb20>]"
      ]
     },
     "execution_count": 9,
     "metadata": {},
     "output_type": "execute_result"
    },
    {
     "data": {
      "image/png": "[encoded data removed]",
      "text/plain": [
       "<Figure size 640x480 with 1 Axes>"
      ]
     },
     "metadata": {},
     "output_type": "display_data"
    }
   ],
   "source": [
    "plt.plot(t, l)"
   ]
  },
  {
   "cell_type": "markdown",
   "id": "087db4a7",
   "metadata": {},
   "source": []
  },
  {
   "cell_type": "code",
   "execution_count": null,
   "id": "dab63d87",
   "metadata": {},
   "outputs": [],
   "source": []
  }
 ],
 "metadata": {
  "kernelspec": {
   "display_name": "Python 3 (ipykernel)",
   "language": "python",
   "name": "python3"
  },
  "language_info": {
   "codemirror_mode": {
    "name": "ipython",
    "version": 3
   },
   "file_extension": ".py",
   "mimetype": "text/x-python",
   "name": "python",
   "nbconvert_exporter": "python",
   "pygments_lexer": "ipython3",
   "version": "3.9.13"
  }
 },
 "nbformat": 4,
 "nbformat_minor": 5
}

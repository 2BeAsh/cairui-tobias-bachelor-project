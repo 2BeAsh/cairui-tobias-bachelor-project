{
 "cells": [
  {
   "cell_type": "code",
   "execution_count": 10,
   "id": "a645d2e4",
   "metadata": {},
   "outputs": [],
   "source": [
    "import sympy as sp\n",
    "from sympy.plotting import plot\n",
    "import numpy as np\n",
    "import matplotlib.pyplot as plt\n",
    "from scipy.special import lpmv"
   ]
  },
  {
   "cell_type": "code",
   "execution_count": 12,
   "id": "139f8721",
   "metadata": {},
   "outputs": [
    {
     "name": "stdout",
     "output_type": "stream",
     "text": [
      "IPython console for SymPy 1.10.1 (Python 3.7.16-64-bit) (ground types: python)\n",
      "\n",
      "These commands were executed:\n",
      ">>> from sympy import *\n",
      ">>> x, y, z, t = symbols('x y z t')\n",
      ">>> k, m, n = symbols('k m n', integer=True)\n",
      ">>> f, g, h = symbols('f g h', cls=Function)\n",
      ">>> init_printing()\n",
      "\n",
      "Documentation can be found at https://docs.sympy.org/1.10.1/\n",
      "\n"
     ]
    }
   ],
   "source": [
    "sp.init_session()"
   ]
  },
  {
   "cell_type": "code",
   "execution_count": 17,
   "id": "e2a90786",
   "metadata": {},
   "outputs": [
    {
     "data": {
      "image/png": "[encoded data removed]",
      "text/latex": [
       "$\\displaystyle \\begin{cases} 0 & \\text{for}\\: m \\neq 0 \\\\2 \\pi k & \\text{otherwise} \\end{cases}$"
      ],
      "text/plain": [
       "⎧  0    for m ≠ 0\n",
       "⎨                \n",
       "⎩2⋅π⋅k  otherwise"
      ]
     },
     "execution_count": 17,
     "metadata": {},
     "output_type": "execute_result"
    }
   ],
   "source": [
    "k, l = symbols(\"k l\")\n",
    "\n",
    "phi_expr = k * cos(m * x) + l * sin(m * x)\n",
    "phi_expr_integrate = phi_expr.integrate((x, 0, 2*pi))\n",
    "\n",
    "phi_expr_integrate"
   ]
  },
  {
   "cell_type": "code",
   "execution_count": 25,
   "id": "f1524128",
   "metadata": {},
   "outputs": [
    {
     "data": {
      "image/png": "[encoded data removed]",
      "text/latex": [
       "$\\displaystyle \\begin{cases} 0 & \\text{for}\\: m \\neq 0 \\\\2 \\pi l m & \\text{otherwise} \\end{cases}$"
      ],
      "text/plain": [
       "⎧   0     for m ≠ 0\n",
       "⎨                  \n",
       "⎩2⋅π⋅l⋅m  otherwise"
      ]
     },
     "execution_count": 25,
     "metadata": {},
     "output_type": "execute_result"
    }
   ],
   "source": [
    "phi_deriv_expr = m * l * cos(m * x) - m * l * sin(m * x)\n",
    "phi_deriv_integrate = phi_deriv_expr.integrate((x, 0, 2*pi))\n",
    "phi_deriv_integrate"
   ]
  },
  {
   "cell_type": "markdown",
   "id": "aa886506",
   "metadata": {},
   "source": [
    "### Integrate legendre"
   ]
  },
  {
   "cell_type": "code",
   "execution_count": 22,
   "id": "415e217a",
   "metadata": {},
   "outputs": [
    {
     "data": {
      "image/png": "[encoded data removed]",
      "text/latex": [
       "$\\displaystyle \\int\\limits_{0}^{\\pi} \\sin^{2}{\\left(x \\right)} \\cos{\\left(x \\right)} P_{n}\\left(x\\right)\\, dx$"
      ],
      "text/plain": [
       "π                                 \n",
       "⌠                                 \n",
       "⎮    2                            \n",
       "⎮ sin (x)⋅cos(x)⋅legendre(n, x) dx\n",
       "⌡                                 \n",
       "0                                 "
      ]
     },
     "execution_count": 22,
     "metadata": {},
     "output_type": "execute_result"
    }
   ],
   "source": [
    "asl = assoc_legendre(n, 0, x)\n",
    "asl_expr = sin(x) ** 2 * cos(x) * asl\n",
    "asl_expr_integrate = asl_expr.integrate((x, 0, pi))\n",
    "\n",
    "asl_expr_integrate"
   ]
  },
  {
   "cell_type": "code",
   "execution_count": 24,
   "id": "d5723974",
   "metadata": {},
   "outputs": [
    {
     "data": {
      "image/png": "[encoded data removed]",
      "text/latex": [
       "$\\displaystyle \\left(n + 1\\right) \\sin{\\left(x \\right)} \\cos{\\left(x \\right)} P_{n}\\left(x\\right) + 3 \\sin^{2}{\\left(x \\right)} \\cos{\\left(x \\right)} P_{n}\\left(x\\right)$"
      ],
      "text/plain": [
       "                                            2                         \n",
       "(n + 1)⋅sin(x)⋅cos(x)⋅legendre(n, x) + 3⋅sin (x)⋅cos(x)⋅legendre(n, x)"
      ]
     },
     "metadata": {},
     "output_type": "display_data"
    },
    {
     "data": {
      "image/png": "[encoded data removed]",
      "text/latex": [
       "$\\displaystyle \\int\\limits_{0}^{\\pi} \\left(n + 3 \\sin{\\left(x \\right)} + 1\\right) \\sin{\\left(x \\right)} \\cos{\\left(x \\right)} P_{n}\\left(x\\right)\\, dx$"
      ],
      "text/plain": [
       "π                                                   \n",
       "⌠                                                   \n",
       "⎮ (n + 3⋅sin(x) + 1)⋅sin(x)⋅cos(x)⋅legendre(n, x) dx\n",
       "⌡                                                   \n",
       "0                                                   "
      ]
     },
     "metadata": {},
     "output_type": "display_data"
    }
   ],
   "source": [
    "asl_full_expr = 3 * sin(x) ** 2 * cos(x) * asl + (n + 1) * asl * cos(x) * sin(x)\n",
    "display(asl_full_expr)\n",
    "\n",
    "asl_full_expr_integrate = asl_full_expr.integrate((x, 0, pi))\n",
    "display(asl_full_expr_integrate)"
   ]
  },
  {
   "cell_type": "code",
   "execution_count": null,
   "id": "a5319381",
   "metadata": {},
   "outputs": [],
   "source": []
  },
  {
   "cell_type": "code",
   "execution_count": 18,
   "id": "e62a7b1a",
   "metadata": {},
   "outputs": [
    {
     "data": {
      "image/png": "[encoded data removed]",
      "text/latex": [
       "$\\displaystyle \\cos{\\left(\\theta \\right)}$"
      ],
      "text/plain": [
       "cos(θ)"
      ]
     },
     "metadata": {},
     "output_type": "display_data"
    },
    {
     "data": {
      "image/png": "[encoded data removed]",
      "text/latex": [
       "$\\displaystyle - \\sin{\\left(\\theta \\right)}$"
      ],
      "text/plain": [
       "-sin(θ)"
      ]
     },
     "metadata": {},
     "output_type": "display_data"
    }
   ],
   "source": [
    "r, theta, phi, A, A_tilde, a = sp.symbols('r theta phi A A_tilde a')\n",
    "n, m = sp.symbols('n m', integer= True)\n",
    "\n",
    "func_r =sp.cos(theta)\n",
    "display(func_r)\n",
    "display(sp.diff(func_r,theta)) #integral grænser\n"
   ]
  },
  {
   "cell_type": "code",
   "execution_count": 20,
   "id": "893f736e",
   "metadata": {},
   "outputs": [
    {
     "data": {
      "image/png": "[encoded data removed]",
      "text/latex": [
       "$\\displaystyle A \\cos{\\left(m \\phi \\right)} + A_{tilde} \\sin{\\left(m \\phi \\right)}$"
      ],
      "text/plain": [
       "A⋅cos(m⋅φ) + A_tilde⋅sin(m⋅φ)"
      ]
     },
     "metadata": {},
     "output_type": "display_data"
    },
    {
     "data": {
      "image/png": "[encoded data removed]",
      "text/latex": [
       "$\\displaystyle \\begin{cases} 0 & \\text{for}\\: m \\neq 0 \\\\2 \\pi A & \\text{otherwise} \\end{cases}$"
      ],
      "text/plain": [
       "⎧  0    for m ≠ 0\n",
       "⎨                \n",
       "⎩2⋅π⋅A  otherwise"
      ]
     },
     "metadata": {},
     "output_type": "display_data"
    }
   ],
   "source": [
    "func_phi = (A*sp.cos(m*phi) + A_tilde * sp.sin(m*phi))\n",
    "display(func_phi)\n",
    "display(sp.integrate(func_phi,(phi, 0, 2*sp.pi))) #integral grænser\n"
   ]
  },
  {
   "cell_type": "code",
   "execution_count": 4,
   "id": "e61ba097",
   "metadata": {},
   "outputs": [
    {
     "data": {
      "text/latex": [
       "$\\displaystyle \\left(- A m \\sin{\\left(m \\phi \\right)} + A_{tilde} m \\cos{\\left(m \\phi \\right)}\\right) \\sin{\\left(\\phi \\right)}$"
      ],
      "text/plain": [
       "(-A*m*sin(m*phi) + A_tilde*m*cos(m*phi))*sin(phi)"
      ]
     },
     "metadata": {},
     "output_type": "display_data"
    },
    {
     "data": {
      "text/latex": [
       "$\\displaystyle \\begin{cases} - \\pi A & \\text{for}\\: m = -1 \\vee m = 1 \\\\0 & \\text{otherwise} \\end{cases}$"
      ],
      "text/plain": [
       "Piecewise((-pi*A, Eq(m, -1) | Eq(m, 1)), (0, True))"
      ]
     },
     "metadata": {},
     "output_type": "display_data"
    }
   ],
   "source": [
    "func_phi = (-A*sp.sin(m*phi)*m + A_tilde * sp.cos(m*phi)*m)*sp.sin(phi)\n",
    "display(func_phi)\n",
    "display(sp.integrate(func_phi,(phi, 0, 2*sp.pi))) #integral grænser\n"
   ]
  },
  {
   "cell_type": "code",
   "execution_count": 5,
   "id": "3c0613d4",
   "metadata": {},
   "outputs": [],
   "source": [
    "def legendre_poly_cos(n1, m1, x):\n",
    "    if n1 == 1 and m1 == 0:\n",
    "        return sp.cos(x)\n",
    "    elif n1==1 and m1 == -1:\n",
    "        return 1/2 * sp.sin(x)\n",
    "    elif n1 == 2 and m1 == 0:\n",
    "        return 1 / 2 * (3 * sp.cos(x) ** 2 - 1)\n",
    "    elif n1 == 3 and m1 == 0:\n",
    "        return 1 / 2 * (5 * sp.cos(x) ** 3 - 3 * sp.cos(x))\n",
    "    elif n1 == 4 and m1 == 0:\n",
    "        return 1 / 8 * (35 * sp.cos(x) ** 4 - 30 * sp.cos(x) ** 2 + 3)\n",
    "    elif n1 == 1 and m1 == 1:\n",
    "        return -sp.sin(x)\n",
    "    elif n1 == 2 and m1 == 1:\n",
    "        return -3 * sp.cos(x) * sp.sin(x)\n",
    "    elif n1 == 2 and m1 == 2:\n",
    "        return 3*sp.sin(x) ** 2\n",
    "    elif n1 == 3 and m1 == 1:\n",
    "        return 3/2 * (1 - 5 * sp.cos(x)**2)*(1 - sp.cos(x)**2)**(1/2)\n",
    "    elif n1 == 3 and m1 == 2:\n",
    "        return 15 * sp.cos(x) * (1 - sp.cos(x) ** 2)\n",
    "    elif n1 == 3 and m1 == 3:\n",
    "        return -15 * (1 - sp.cos(x) ** 2) ** (3 / 2)\n",
    "    elif n1 == 4 and m1 == 1:\n",
    "        return 5/2 * sp.cos(x) * (3 - 7 * sp.cos(x) ** 2) * ( 1 - sp.cos(x) ** 2) ** (1 / 2)\n",
    "    elif n1 == 4 and m1 == 2:\n",
    "        return 15/2 * (7 * sp.cos(x) ** 2 - 1) * (1 - sp.cos(x) ** 2) \n",
    "    elif n1 == 4 and m1 == 3:\n",
    "        return -105 * sp.cos(x) * (1 - sp.cos(x) ** 2) ** (3 / 2)\n",
    "    elif n1 == 4 and m1 == 4:\n",
    "        return 105*(1 - sp.cos(x)**2)**2\n",
    "    \n",
    "def legendre_poly(n1, m1, x):\n",
    "    if n1 == 1 and m1 == 0:\n",
    "        return x\n",
    "    elif n1 == 2 and m1 == 0:\n",
    "        return 1 / 2 * (3 * x ** 2 - 1)\n",
    "    elif n1 == 3 and m1 == 0:\n",
    "        return 1 / 2 * (5 * x ** 3 - 3 * x)\n",
    "    elif n1 == 4 and m1 == 0:\n",
    "        return 1 / 8 * (35 * x ** 4 - 30 * x ** 2 + 3)\n",
    "    elif n1 == 1 and m1 == 1:\n",
    "        return -(1-x**2)**(1/2)\n",
    "    elif n1 == 2 and m1 == 1:\n",
    "        return -3 * x * (1-x**2)**(1/2)\n",
    "    elif n1 == 2 and m1 == 2:\n",
    "        return 3*(1-x**2)\n",
    "    elif n1 == 3 and m1 == 1:\n",
    "        return 3/2 * (1 - 5 * x**2)*(1 - x**2)**(1/2)\n",
    "    elif n1 == 3 and m1 == 2:\n",
    "        return 15 * x * (1 -x ** 2)\n",
    "    elif n1 == 3 and m1 == 3:\n",
    "        return -15 * (1 - x ** 2) ** (3 / 2)\n",
    "    elif n1 == 4 and m1 == 1:\n",
    "        return 5/2 * x * (3 - 7 * x ** 2) * ( 1 - x ** 2) ** (1 / 2)\n",
    "    elif n1 == 4 and m1 == 2:\n",
    "        return 15/2 * (7 * x ** 2 - 1) * (1 -x ** 2) \n",
    "    elif n1 == 4 and m1 == 3:\n",
    "        return -105 * x * (1 - x ** 2) ** (3 / 2)\n",
    "    elif n1 == 4 and m1 == 4:\n",
    "        return 105*(1 - x**2)**2\n",
    "    elif n1==5 and m1==1:\n",
    "        return 9/4*x* ( 5/2 * x * (3 - 7 * x ** 2) * ( 1 - x ** 2) ** (1 / 2)) - 5/4 * 3/2 * (1 - 5 * x**2)*(1 - x**2)**(1/2)\n",
    "    elif n1==5 and m1==2:\n",
    "        return 3*x*15/2 * (7 * x ** 2 - 1) * (1 -x ** 2) - 2 * 15 * x * (1 -x ** 2)\n",
    "    elif n1<m1:\n",
    "        return 0"
   ]
  },
  {
   "cell_type": "code",
   "execution_count": 6,
   "id": "bc1573ed",
   "metadata": {},
   "outputs": [
    {
     "data": {
      "text/latex": [
       "$\\displaystyle - \\left(1 - \\theta^{2}\\right)^{0.5}$"
      ],
      "text/plain": [
       "-(1 - theta**2)**0.5"
      ]
     },
     "execution_count": 6,
     "metadata": {},
     "output_type": "execute_result"
    }
   ],
   "source": [
    "legendre_poly(1,1, theta)"
   ]
  },
  {
   "cell_type": "code",
   "execution_count": 7,
   "id": "25ef1b83",
   "metadata": {
    "scrolled": true
   },
   "outputs": [
    {
     "data": {
      "text/latex": [
       "$\\displaystyle \\left(1.5 \\cos^{2}{\\left(\\theta \\right)} - 0.5\\right) \\cos{\\left(\\theta \\right)} - \\cos{\\left(\\theta \\right)}$"
      ],
      "text/plain": [
       "(1.5*cos(theta)**2 - 0.5)*cos(theta) - cos(theta)"
      ]
     },
     "metadata": {},
     "output_type": "display_data"
    },
    {
     "data": {
      "text/latex": [
       "$\\displaystyle 0$"
      ],
      "text/plain": [
       "0"
      ]
     },
     "metadata": {},
     "output_type": "display_data"
    }
   ],
   "source": [
    "n1=3\n",
    "m1=0\n",
    "func_theta =-legendre_poly_cos(1,0, theta) + sp.cos(theta)*legendre_poly_cos(1+1, 0, theta)\n",
    "display(func_theta)\n",
    "\n",
    "display(sp.integrate(func_theta,(theta, 0, sp.pi))) #integral grænser\n"
   ]
  },
  {
   "cell_type": "code",
   "execution_count": 8,
   "id": "d55d1dd4",
   "metadata": {},
   "outputs": [
    {
     "data": {
      "text/plain": [
       "-0.36815519532655955"
      ]
     },
     "execution_count": 8,
     "metadata": {},
     "output_type": "execute_result"
    }
   ],
   "source": [
    "t = np.linspace(0, np.pi, 1_900_000)\n",
    "l = np.sin(t)\n",
    "l*= legendre_poly(5,1, np.cos(t))\n",
    "dt = np.pi/1_900_000\n",
    "np.sum(dt*l)"
   ]
  },
  {
   "cell_type": "code",
   "execution_count": 9,
   "id": "fea278d1",
   "metadata": {},
   "outputs": [
    {
     "data": {
      "text/plain": [
       "[<matplotlib.lines.Line2D at 0x1f98bc652c8>]"
      ]
     },
     "execution_count": 9,
     "metadata": {},
     "output_type": "execute_result"
    },
    {
     "data": {
      "image/png": "[encoded data removed]",
      "text/plain": [
       "<Figure size 640x480 with 1 Axes>"
      ]
     },
     "metadata": {},
     "output_type": "display_data"
    }
   ],
   "source": [
    "plt.plot(t, l)"
   ]
  },
  {
   "cell_type": "markdown",
   "id": "087db4a7",
   "metadata": {},
   "source": []
  },
  {
   "cell_type": "code",
   "execution_count": null,
   "id": "dab63d87",
   "metadata": {},
   "outputs": [],
   "source": []
  }
 ],
 "metadata": {
  "kernelspec": {
   "display_name": "Python 3 (ipykernel)",
   "language": "python",
   "name": "python3"
  },
  "language_info": {
   "codemirror_mode": {
    "name": "ipython",
    "version": 3
   },
   "file_extension": ".py",
   "mimetype": "text/x-python",
   "name": "python",
   "nbconvert_exporter": "python",
   "pygments_lexer": "ipython3",
   "version": "3.7.16"
  }
 },
 "nbformat": 4,
 "nbformat_minor": 5
}

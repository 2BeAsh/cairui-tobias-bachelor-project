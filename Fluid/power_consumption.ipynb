{
 "cells": [
  {
   "cell_type": "code",
   "execution_count": 6,
   "id": "65ee1c0c",
   "metadata": {},
   "outputs": [],
   "source": [
    "import numpy as np\n",
    "import matplotlib.pyplot as plt\n",
    "from  scipy.special import factorial"
   ]
  },
  {
   "cell_type": "code",
   "execution_count": 3,
   "id": "7c834412",
   "metadata": {},
   "outputs": [],
   "source": [
    "eta = 1\n",
    "a = 1"
   ]
  },
  {
   "cell_type": "code",
   "execution_count": 8,
   "id": "a9fde51b",
   "metadata": {},
   "outputs": [],
   "source": [
    "def mode_basic(a, eta):\n",
    "    return 64 * np.pi * eta / (3 * a ** 5)\n",
    "\n",
    "def mode_b_0n(n, a, eta):\n",
    "    \"\"\"\n",
    "    n skal være mindst 2\n",
    "    \"\"\"\n",
    "    return 4 * n * (n + 1) * np.pi * eta / (a ** (2 * n + 1)) * 4 / (n ** 2 * a ** 2)\n",
    "\n",
    "def mode_c_0n(n, a, eta):\n",
    "    \"\"\"\n",
    "    n skal være mindst 2\n",
    "    \"\"\"\n",
    "    return 4 * n * (n + 1) * np.pi * eta / (a ** (2 * n + 1)) * (n + 2) / (2 * n + 1)\n",
    "\n",
    "def mode_b_mn(n, m, a, eta):\n",
    "    \"\"\"\n",
    "    n skal være mindst 2\n",
    "    m skal være mindst 1\n",
    "    \"\"\"\n",
    "    return 2 * n * (n + 1) * factorial(n + m) * np.pi * eta / (a ** (2 * n + 1) * factorial(n-m)) * 4 / (n ** 2 * a)\n",
    "\n",
    "def mode_c_mn(n,m, a, eta):\n",
    "    \"\"\"\n",
    "    n skal være mindst 2\n",
    "    m skal være mindst 1\n",
    "    \"\"\"\n",
    "    return 2 * n * (n + 1) * factorial(n + m) * np.pi * eta / (a ** (2 * n + 1) * factorial(n-m)) * (n + 2) / (2 * n + 1)"
   ]
  },
  {
   "cell_type": "code",
   "execution_count": null,
   "id": "395b6062",
   "metadata": {},
   "outputs": [],
   "source": []
  },
  {
   "cell_type": "code",
   "execution_count": null,
   "id": "b64b8c28",
   "metadata": {},
   "outputs": [],
   "source": []
  }
 ],
 "metadata": {
  "kernelspec": {
   "display_name": "Python 3 (ipykernel)",
   "language": "python",
   "name": "python3"
  },
  "language_info": {
   "codemirror_mode": {
    "name": "ipython",
    "version": 3
   },
   "file_extension": ".py",
   "mimetype": "text/x-python",
   "name": "python",
   "nbconvert_exporter": "python",
   "pygments_lexer": "ipython3",
   "version": "3.9.13"
  }
 },
 "nbformat": 4,
 "nbformat_minor": 5
}

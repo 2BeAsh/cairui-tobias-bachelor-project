{
 "cells": [
  {
   "cell_type": "code",
   "execution_count": 1,
   "id": "281fdf09",
   "metadata": {},
   "outputs": [],
   "source": [
    "import numpy as np\n",
    "import matplotlib.pyplot as plt\n",
    "\n",
    "from fluid_module import canonical_fibonacci_lattice, oseen_tensor, oseen_tensor_on_points, force_on_sphere, discretized_sphere, field_cartesian"
   ]
  },
  {
   "cell_type": "code",
   "execution_count": 2,
   "id": "eb83f7ff",
   "metadata": {},
   "outputs": [
    {
     "name": "stdout",
     "output_type": "stream",
     "text": [
      "(3000, 3000)\n",
      "(3000,)\n"
     ]
    }
   ],
   "source": [
    "# Parameters\n",
    "N_sphere = 1000\n",
    "N_point = 20\n",
    "squirmer_radius = 1\n",
    "point_radius = 2.5 * squirmer_radius\n",
    "max_mode = 2\n",
    "regularization_offset = 0.01\n",
    "viscosity = 1\n",
    "\n",
    "# Modes\n",
    "B = np.zeros((3, 3))\n",
    "B_tilde = np.zeros_like(B)\n",
    "C = np.zeros_like(B)\n",
    "C_tilde = np.zeros_like(B)\n",
    "#B[0,1] = 1\n",
    "B_tilde[1, 1] = 1\n",
    "\n",
    "# Points outside sphere\n",
    "grid_vals = np.linspace(-point_radius, point_radius, N_point) + 0.1\n",
    "x_point = np.zeros_like(grid_vals)\n",
    "y_point = 1 * grid_vals\n",
    "z_point = 1 * grid_vals\n",
    "X, Y, Z = np.meshgrid(x_point, y_point, z_point)\n",
    "R = np.sqrt(X.flatten() ** 2 + Y.flatten() ** 2 + Z.flatten() ** 2)\n",
    "\n",
    "# Do the calculations\n",
    "x_sphere, y_sphere, z_sphere, theta, phi, area = canonical_fibonacci_lattice(N_sphere, squirmer_radius)\n",
    "\n",
    "A_oseen = oseen_tensor_on_points(x_sphere, y_sphere, z_sphere, \n",
    "                                 X.flatten(), Y.flatten(), Z.flatten(), \n",
    "                                 regularization_offset=regularization_offset, dA=area, viscosity=viscosity)\n",
    "\n",
    "forces, u_surface = force_on_sphere(N_sphere, distance_squirmer=R, max_mode=max_mode, theta=theta, phi=phi, squirmer_radius=squirmer_radius, \n",
    "                            B=B, B_tilde=B_tilde, C=C, C_tilde=C_tilde, regularization_offset=regularization_offset,\n",
    "                            viscosity=viscosity, lab_frame=True)\n",
    "forces = np.expand_dims(forces, axis=1)\n",
    "u_sphere = A_oseen @ forces"
   ]
  },
  {
   "cell_type": "code",
   "execution_count": 3,
   "id": "70a253aa",
   "metadata": {},
   "outputs": [],
   "source": [
    "def oseen_point23(x_sphere, y_sphere, z_sphere, x_points, y_points, z_points, epsilon, dA, viscosity):\n",
    "    oseen_factor = dA / (8 * np.pi * viscosity)\n",
    "    \n",
    "    dx = x_points[:, None] - x_sphere[None, :]\n",
    "    dy = y_points[:, None] - y_sphere[None, :]\n",
    "    dz = z_points[:, None] - z_sphere[None, :]\n",
    "    r = np.sqrt(dx ** 2 + dy ** 2 + dz ** 2)\n",
    "    r_epsilon_cubed = np.sqrt(r ** 2 + epsilon ** 2) ** 3\n",
    "    \n",
    "    S = (dz * dy) / r_epsilon_cubed\n",
    "    return S * oseen_factor"
   ]
  },
  {
   "cell_type": "code",
   "execution_count": 4,
   "id": "923c0617",
   "metadata": {},
   "outputs": [
    {
     "data": {
      "text/plain": [
       "array([[5.66092473e-05, 5.66165731e-05, 5.66234298e-05, ...,\n",
       "        7.48093388e-05, 8.13945899e-05, 7.74072931e-05],\n",
       "       [6.10987190e-05, 6.12520356e-05, 6.08362814e-05, ...,\n",
       "        6.91179691e-05, 7.62615115e-05, 7.18627699e-05],\n",
       "       [6.57062587e-05, 6.60487853e-05, 6.50859516e-05, ...,\n",
       "        5.93842536e-05, 6.63698342e-05, 6.19867202e-05],\n",
       "       ...,\n",
       "       [6.27161713e-05, 6.08385355e-05, 6.67749961e-05, ...,\n",
       "        6.17983958e-05, 6.08125820e-05, 6.13756294e-05],\n",
       "       [6.95428893e-05, 6.76816032e-05, 7.34078438e-05, ...,\n",
       "        5.75956990e-05, 5.70998172e-05, 5.73767329e-05],\n",
       "       [7.30870556e-05, 7.13843083e-05, 7.64936151e-05, ...,\n",
       "        5.35188655e-05, 5.34103149e-05, 5.34609093e-05]])"
      ]
     },
     "execution_count": 4,
     "metadata": {},
     "output_type": "execute_result"
    }
   ],
   "source": [
    "oseen_tensor_on_points(x_sphere, y_sphere, z_sphere, \n",
    "                       X.flatten(), Y.flatten(), Z.flatten(), \n",
    "                       regularization_offset=regularization_offset, dA=area, viscosity=viscosity)[N_point**3:2*N_point**3, 2*N_sphere:3*N_sphere]"
   ]
  },
  {
   "cell_type": "code",
   "execution_count": 5,
   "id": "9922c294",
   "metadata": {},
   "outputs": [],
   "source": [
    "oseen_point23(x_sphere, y_sphere, z_sphere, \n",
    "              X.flatten(), Y.flatten(), Z.flatten(),\n",
    "              epsilon=regularization_offset, dA=area, viscosity=viscosity);"
   ]
  },
  {
   "cell_type": "code",
   "execution_count": 6,
   "id": "d94cd89d",
   "metadata": {
    "scrolled": true
   },
   "outputs": [],
   "source": [
    "# The known velocity field\n",
    "y_field = 1 * y_point\n",
    "z_field = 1 * z_point\n",
    "Z_field, Y_field = np.meshgrid(z_field, y_field)\n",
    "R_field = np.sqrt(Z_field**2 + Y_field**2)\n",
    "Theta = np.arctan2(Y_field, Z_field) + np.pi\n",
    "Phi = np.ones(np.shape(Theta)) * np.pi/2\n",
    "\n",
    "ux_field, uy_field, uz_field = field_cartesian(max_mode, R_field.flatten(), Theta.flatten(), Phi.flatten(), \n",
    "                                               squirmer_radius, B, B_tilde, C, C_tilde, lab_frame=True )\n",
    "ux_field = ux_field.reshape(np.shape(R_field))\n",
    "uy_field = uy_field.reshape(np.shape(R_field))\n",
    "uz_field = uz_field.reshape(np.shape(R_field))\n",
    "#print(uy_field.reshape(np.shape(R_field)))\n",
    "mask_squirmer = R_field < squirmer_radius\n",
    "ux_field[mask_squirmer] = 0\n",
    "uy_field[mask_squirmer] = 0\n",
    "uz_field[mask_squirmer] = 0\n",
    "\n"
   ]
  },
  {
   "cell_type": "code",
   "execution_count": 7,
   "id": "60690616",
   "metadata": {},
   "outputs": [],
   "source": [
    "u_y = u_sphere[N_point**3:2*N_point**3]\n",
    "u_z = u_sphere[2*N_point**3:3*N_point**3]\n",
    "\n",
    "u_y = u_y.reshape(N_point, N_point, N_point)\n",
    "u_z = u_z.reshape(N_point, N_point, N_point)\n",
    "\n",
    "u_y = u_y[:, 0, :]\n",
    "u_z = u_z[:, 0, :]\n",
    "\n",
    "Y_plot = Y[:, 0, :]\n",
    "Z_plot = Z[:, 0, :]\n"
   ]
  },
  {
   "cell_type": "code",
   "execution_count": 8,
   "id": "e3f926ef",
   "metadata": {},
   "outputs": [],
   "source": [
    "u_y[mask_squirmer] = 0\n",
    "u_z[mask_squirmer] = 0"
   ]
  },
  {
   "cell_type": "code",
   "execution_count": null,
   "id": "2d9f0cc0",
   "metadata": {},
   "outputs": [],
   "source": []
  },
  {
   "cell_type": "markdown",
   "id": "94ed248f",
   "metadata": {},
   "source": [
    "# Shape investigation\n",
    "print(\"N_sphere = \", N_sphere)\n",
    "print(\"N_sphere**3 = \", N_sphere ** 3)\n",
    "print(\"N_point =\", N_point)\n",
    "print(\"N_point**3 =\", N_point ** 3)\n",
    "\n",
    "print(\"\")\n",
    "print(\"u_y shape = \", np.shape(u_y))\n",
    "print(\"Y shape = \", np.shape(Y))\n",
    "print(\"Y_field shape = \", np.shape(Y_field))\n",
    "print(\"\")\n",
    "print(\"Y_plot shape=\", np.shape(Y_plot))\n",
    "\n",
    "print(\"\")\n",
    "print(\"Oseen =\", np.shape(A_oseen))\n",
    "print(\"force =\", np.shape(forces))"
   ]
  },
  {
   "cell_type": "code",
   "execution_count": 9,
   "id": "3851541d",
   "metadata": {},
   "outputs": [
    {
     "data": {
      "image/png": "[encoded data removed]",
      "text/plain": [
       "<Figure size 500x500 with 1 Axes>"
      ]
     },
     "metadata": {},
     "output_type": "display_data"
    }
   ],
   "source": [
    "from matplotlib.patches import Circle\n",
    "fig, ax = plt.subplots(dpi=100, figsize=(5, 5))\n",
    "circle = Circle((0, 0), radius=squirmer_radius, facecolor=\"none\", edgecolor=(0, 0.8, 0.8), linewidth=3, alpha=0.5)\n",
    "ax.add_patch(circle)\n",
    "\n",
    "#ax.quiver(Y_field, Z_field, uy_field, uz_field, color=\"blue\", label=\"Original Field\")\n",
    "ax.quiver(Y_plot, Z_plot, u_y, u_z, color=\"red\", alpha=0.5, label=\"From Oseen\")\n",
    "ax.set(xlabel=\"y\", ylabel=\"z\")\n",
    "ax.legend()\n",
    "fig.tight_layout()"
   ]
  },
  {
   "cell_type": "code",
   "execution_count": 10,
   "id": "0a39766b",
   "metadata": {},
   "outputs": [
    {
     "ename": "ValueError",
     "evalue": "too many values to unpack (expected 4)",
     "output_type": "error",
     "traceback": [
      "\u001b[1;31m---------------------------------------------------------------------------\u001b[0m",
      "\u001b[1;31mValueError\u001b[0m                                Traceback (most recent call last)",
      "\u001b[1;32m~\\AppData\\Local\\Temp\\ipykernel_8976\\1940364625.py\u001b[0m in \u001b[0;36m<module>\u001b[1;34m\u001b[0m\n\u001b[0;32m     11\u001b[0m \u001b[1;31m#u_r, u_theta = field_polar(N, r, theta, a, B, B_tilde, C, C_tilde)\u001b[0m\u001b[1;33m\u001b[0m\u001b[1;33m\u001b[0m\u001b[0m\n\u001b[0;32m     12\u001b[0m \u001b[1;31m#print(u_r, u_theta)\u001b[0m\u001b[1;33m\u001b[0m\u001b[1;33m\u001b[0m\u001b[0m\n\u001b[1;32m---> 13\u001b[1;33m \u001b[0mx\u001b[0m\u001b[1;33m,\u001b[0m \u001b[0my\u001b[0m\u001b[1;33m,\u001b[0m \u001b[0mz\u001b[0m\u001b[1;33m,\u001b[0m\u001b[0m_\u001b[0m \u001b[1;33m=\u001b[0m \u001b[0mdiscretized_sphere\u001b[0m\u001b[1;33m(\u001b[0m\u001b[0mN\u001b[0m\u001b[1;33m=\u001b[0m\u001b[1;36m1000\u001b[0m\u001b[1;33m,\u001b[0m \u001b[0mradius\u001b[0m\u001b[1;33m=\u001b[0m\u001b[1;36m1\u001b[0m\u001b[1;33m)\u001b[0m\u001b[1;33m\u001b[0m\u001b[1;33m\u001b[0m\u001b[0m\n\u001b[0m\u001b[0;32m     14\u001b[0m \u001b[0mfig\u001b[0m \u001b[1;33m=\u001b[0m \u001b[0mplt\u001b[0m\u001b[1;33m.\u001b[0m\u001b[0mfigure\u001b[0m\u001b[1;33m(\u001b[0m\u001b[0mdpi\u001b[0m\u001b[1;33m=\u001b[0m\u001b[1;36m200\u001b[0m\u001b[1;33m)\u001b[0m\u001b[1;33m\u001b[0m\u001b[1;33m\u001b[0m\u001b[0m\n\u001b[0;32m     15\u001b[0m \u001b[0max\u001b[0m \u001b[1;33m=\u001b[0m \u001b[0mfig\u001b[0m\u001b[1;33m.\u001b[0m\u001b[0madd_subplot\u001b[0m\u001b[1;33m(\u001b[0m\u001b[0mprojection\u001b[0m\u001b[1;33m=\u001b[0m\u001b[1;34m\"3d\"\u001b[0m\u001b[1;33m)\u001b[0m\u001b[1;33m\u001b[0m\u001b[1;33m\u001b[0m\u001b[0m\n",
      "\u001b[1;31mValueError\u001b[0m: too many values to unpack (expected 4)"
     ]
    }
   ],
   "source": [
    "N = 2\n",
    "r = 3\n",
    "a = 1\n",
    "B = np.random.uniform(size=(N+1, N+1))\n",
    "B_tilde = B / 2\n",
    "C = B / 3\n",
    "C_tilde = B / 4\n",
    "theta = 0\n",
    "#vals, diff = lpmn(N, N, np.cos(theta))\n",
    "#print(diff)\n",
    "#u_r, u_theta = field_polar(N, r, theta, a, B, B_tilde, C, C_tilde)\n",
    "#print(u_r, u_theta)\n",
    "x, y, z,_ = discretized_sphere(N=1000, radius=1)\n",
    "fig = plt.figure(dpi=200)\n",
    "ax = fig.add_subplot(projection=\"3d\")\n",
    "ax.scatter(x, y, z)\n",
    "ax.set_xlabel(\"x\")\n",
    "ax.set_ylabel(\"y\")\n",
    "ax.set_zlabel(\"z\")\n",
    "plt.show()\n",
    "plt.close()\n",
    "\n",
    "x_can, y_can, z_can, _ = canonical_fibonacci_lattice(N=1000, radius=1)\n",
    "fig_1 = plt.figure(dpi=200)\n",
    "ax_1 = fig_1.add_subplot(projection=\"3d\")\n",
    "ax_1.scatter(x_can, y_can, z_can)\n",
    "ax_1.set_xlabel(\"x\")\n",
    "ax_1.set_ylabel(\"y\")\n",
    "ax_1.set_zlabel(\"z\")\n",
    "plt.show()\n",
    "plt.close()\n"
   ]
  },
  {
   "cell_type": "code",
   "execution_count": null,
   "id": "157a0016",
   "metadata": {},
   "outputs": [],
   "source": [
    "def Oseen(x, y, z, zeta_x, zeta_y, zeta_z, epsilon):\n",
    "    \"\"\"\n",
    "    arbitary point: x,y,z \n",
    "    singular point: zeta_x, zeta_y, zeta_z,\n",
    "    return the oseen matrix/tensor S which is 3x3 big\n",
    "    The oseen tensor has NOT been integrated\n",
    "    \"\"\"\n",
    "    S = np.ones((3,3))\n",
    "    r1 = x - zeta_x  # distance between an arbitary point and the a singular point \n",
    "    r2 = y - zeta_y\n",
    "    r3 = z - zeta_z\n",
    "    \n",
    "    r = np.sqrt(r1 ** 2 + r2 ** 2 + r3 ** 2)\n",
    "    r_epsilon = np.sqrt(r ** 2 + epsilon ** 2)\n",
    "        \n",
    "    S[0, 0] = (r ** 2 + 2 * epsilon ** 2 + r1 ** 2) / r_epsilon ** 3\n",
    "    S[1, 1] = (r ** 2 + 2 * epsilon ** 2 + r2 ** 2) / r_epsilon ** 3\n",
    "    S[2, 2] = (r ** 2 + 2 * epsilon ** 2 + r3 ** 2) / r_epsilon ** 3\n",
    "    S[0, 1] = S[1, 0] = r1 * r2 / r_epsilon ** 3\n",
    "    S[0, 2] = S[2, 0] = r1 * r3 / r_epsilon ** 3\n",
    "    S[1, 2] = S[2, 1] = r1 * r3 / r_epsilon ** 3\n",
    "    \n",
    "    return S"
   ]
  },
  {
   "cell_type": "code",
   "execution_count": null,
   "id": "265ed902",
   "metadata": {},
   "outputs": [],
   "source": [
    "N = 4\n",
    "A = np.ones((3*N ,3*N))\n",
    "B = np.ones((3*N))\n",
    "print(np.shape( B))\n",
    "A[0:3, 0:3] = 10 \n",
    "A[0:3 , 3 :2*3 ] = 12\n",
    "A[0:3 , 2*3 :3*3 ] = 33\n",
    "A[0:3 , 3*3 :4*3 ] = 4\n",
    "\n",
    "A[3:2*3,  0:3] = 58\n",
    "A[2*3:3*3,  0:3] = 0\n",
    "A[3*3:4*3, 0:3] = 66\n",
    "\n",
    "A[3*3:4*3, 3*3:4*3] = 100\n",
    "\n",
    "print(A)\n",
    "print(np.shape(A @ B))\n",
    "A @ B"
   ]
  },
  {
   "cell_type": "code",
   "execution_count": null,
   "id": "99013704",
   "metadata": {},
   "outputs": [],
   "source": [
    "x, y, z, da = discretized_sphere(50 , 1)\n",
    "\n",
    "ux, uy, uz = velocity(x, y,z, 1)\n",
    "\n",
    "U = np.array((ux, uy, uz)).flatten()\n",
    "print(np.shape(x))"
   ]
  },
  {
   "cell_type": "code",
   "execution_count": null,
   "id": "a897cb9e",
   "metadata": {},
   "outputs": [],
   "source": [
    "A = oseen_tensor(x, y, z, 0.01, da, 1)\n",
    "np.shape(A)\n"
   ]
  },
  {
   "cell_type": "code",
   "execution_count": null,
   "id": "8904d753",
   "metadata": {},
   "outputs": [],
   "source": [
    "zero = np.zeros((3, 3))"
   ]
  },
  {
   "cell_type": "code",
   "execution_count": null,
   "id": "e8409d2f",
   "metadata": {},
   "outputs": [],
   "source": [
    "zero = np.append(zero, np.ones((1,3)), axis=0)"
   ]
  },
  {
   "cell_type": "code",
   "execution_count": null,
   "id": "d90d73f6",
   "metadata": {},
   "outputs": [],
   "source": [
    "zero"
   ]
  },
  {
   "cell_type": "code",
   "execution_count": null,
   "id": "61a46c3e",
   "metadata": {},
   "outputs": [],
   "source": []
  }
 ],
 "metadata": {
  "kernelspec": {
   "display_name": "Python 3 (ipykernel)",
   "language": "python",
   "name": "python3"
  },
  "language_info": {
   "codemirror_mode": {
    "name": "ipython",
    "version": 3
   },
   "file_extension": ".py",
   "mimetype": "text/x-python",
   "name": "python",
   "nbconvert_exporter": "python",
   "pygments_lexer": "ipython3",
   "version": "3.9.13"
  }
 },
 "nbformat": 4,
 "nbformat_minor": 5
}

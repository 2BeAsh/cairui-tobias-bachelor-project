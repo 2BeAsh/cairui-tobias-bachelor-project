{
 "cells": [
  {
   "cell_type": "code",
   "execution_count": 1,
   "id": "89014cff",
   "metadata": {},
   "outputs": [],
   "source": [
    "import sympy as sp\n",
    "from sympy.plotting import plot\n",
    "import numpy as np\n",
    "import matplotlib.pyplot as plt"
   ]
  },
  {
   "cell_type": "code",
   "execution_count": 10,
   "id": "95d11345",
   "metadata": {},
   "outputs": [
    {
     "data": {
      "text/latex": [
       "$\\displaystyle \\left[\\begin{matrix}U \\left(- \\frac{a^{3}}{2 r^{3}} + \\frac{3 a}{2 r}\\right) \\cos{\\left(\\theta \\right)}\\\\- U \\left(\\frac{a^{3}}{4 r^{3}} + \\frac{3 a}{4 r}\\right) \\sin{\\left(\\theta \\right)}\\\\0\\end{matrix}\\right]$"
      ],
      "text/plain": [
       "Matrix([\n",
       "[U*(-a**3/(2*r**3) + 3*a/(2*r))*cos(theta)],\n",
       "[-U*(a**3/(4*r**3) + 3*a/(4*r))*sin(theta)],\n",
       "[                                        0]])"
      ]
     },
     "metadata": {},
     "output_type": "display_data"
    }
   ],
   "source": [
    "r, theta, phi, a, U = sp.symbols('r theta phi a U')\n",
    "\n",
    "\n",
    "a1 = 3*a/(2*r)-a**3/(2*r**3)\n",
    "a2 = 3*a/(4*r) + a**3/(4*r**3)\n",
    "v_sf = sp.Matrix([ U*sp.cos(theta)*a1, - U*sp.sin(theta)*a2, 0])\n",
    "display(v_sf)"
   ]
  },
  {
   "cell_type": "code",
   "execution_count": 13,
   "id": "35786342",
   "metadata": {},
   "outputs": [
    {
     "data": {
      "text/latex": [
       "$\\displaystyle \\left[\\begin{matrix}\\sin{\\left(\\theta \\right)} \\cos{\\left(\\phi \\right)} & \\cos{\\left(\\phi \\right)} \\cos{\\left(\\theta \\right)} & - \\sin{\\left(\\phi \\right)}\\\\\\sin{\\left(\\phi \\right)} \\sin{\\left(\\theta \\right)} & \\sin{\\left(\\phi \\right)} \\cos{\\left(\\theta \\right)} & \\cos{\\left(\\phi \\right)}\\\\\\cos{\\left(\\theta \\right)} & - \\sin{\\left(\\theta \\right)} & 0\\end{matrix}\\right]$"
      ],
      "text/plain": [
       "Matrix([\n",
       "[sin(theta)*cos(phi), cos(phi)*cos(theta), -sin(phi)],\n",
       "[sin(phi)*sin(theta), sin(phi)*cos(theta),  cos(phi)],\n",
       "[         cos(theta),         -sin(theta),         0]])"
      ]
     },
     "metadata": {},
     "output_type": "display_data"
    }
   ],
   "source": [
    "sf_til_kar = sp.Matrix([[sp.sin(theta)*sp.cos(phi), sp.cos(theta)*sp.cos(phi), - sp.sin(phi)],\n",
    "                        [sp.sin(theta)*sp.sin(phi), sp.cos(theta)*sp.sin(phi), sp.cos(phi)],\n",
    "                        [sp.cos(theta), -sp.sin(theta), 0]])\n",
    "display(sf_til_kar)"
   ]
  },
  {
   "cell_type": "code",
   "execution_count": 15,
   "id": "e0f6c708",
   "metadata": {},
   "outputs": [
    {
     "data": {
      "text/latex": [
       "$\\displaystyle \\left[\\begin{matrix}U \\left(- \\frac{a^{3}}{2 r^{3}} + \\frac{3 a}{2 r}\\right) \\sin{\\left(\\theta \\right)} \\cos{\\left(\\phi \\right)} \\cos{\\left(\\theta \\right)} - U \\left(\\frac{a^{3}}{4 r^{3}} + \\frac{3 a}{4 r}\\right) \\sin{\\left(\\theta \\right)} \\cos{\\left(\\phi \\right)} \\cos{\\left(\\theta \\right)}\\\\U \\left(- \\frac{a^{3}}{2 r^{3}} + \\frac{3 a}{2 r}\\right) \\sin{\\left(\\phi \\right)} \\sin{\\left(\\theta \\right)} \\cos{\\left(\\theta \\right)} - U \\left(\\frac{a^{3}}{4 r^{3}} + \\frac{3 a}{4 r}\\right) \\sin{\\left(\\phi \\right)} \\sin{\\left(\\theta \\right)} \\cos{\\left(\\theta \\right)}\\\\U \\left(- \\frac{a^{3}}{2 r^{3}} + \\frac{3 a}{2 r}\\right) \\cos^{2}{\\left(\\theta \\right)} + U \\left(\\frac{a^{3}}{4 r^{3}} + \\frac{3 a}{4 r}\\right) \\sin^{2}{\\left(\\theta \\right)}\\end{matrix}\\right]$"
      ],
      "text/plain": [
       "Matrix([\n",
       "[U*(-a**3/(2*r**3) + 3*a/(2*r))*sin(theta)*cos(phi)*cos(theta) - U*(a**3/(4*r**3) + 3*a/(4*r))*sin(theta)*cos(phi)*cos(theta)],\n",
       "[U*(-a**3/(2*r**3) + 3*a/(2*r))*sin(phi)*sin(theta)*cos(theta) - U*(a**3/(4*r**3) + 3*a/(4*r))*sin(phi)*sin(theta)*cos(theta)],\n",
       "[                                  U*(-a**3/(2*r**3) + 3*a/(2*r))*cos(theta)**2 + U*(a**3/(4*r**3) + 3*a/(4*r))*sin(theta)**2]])"
      ]
     },
     "metadata": {},
     "output_type": "display_data"
    }
   ],
   "source": [
    "v_kar = sf_til_kar * v_sf\n",
    "display(v_kar)"
   ]
  },
  {
   "cell_type": "code",
   "execution_count": 18,
   "id": "40d8c8fe",
   "metadata": {},
   "outputs": [
    {
     "data": {
      "text/latex": [
       "$\\displaystyle \\left[\\begin{matrix}- U \\left(- \\frac{a^{3}}{2 r^{3}} + \\frac{3 a}{2 r}\\right) \\cos^{2}{\\left(\\theta \\right)} - U \\left(\\frac{a^{3}}{4 r^{3}} + \\frac{3 a}{4 r}\\right) \\sin^{2}{\\left(\\theta \\right)}\\\\U \\left(- \\frac{a^{3}}{2 r^{3}} + \\frac{3 a}{2 r}\\right) \\sin{\\left(\\phi \\right)} \\sin{\\left(\\theta \\right)} \\cos{\\left(\\theta \\right)} - U \\left(\\frac{a^{3}}{4 r^{3}} + \\frac{3 a}{4 r}\\right) \\sin{\\left(\\phi \\right)} \\sin{\\left(\\theta \\right)} \\cos{\\left(\\theta \\right)}\\\\U \\left(- \\frac{a^{3}}{2 r^{3}} + \\frac{3 a}{2 r}\\right) \\sin{\\left(\\theta \\right)} \\cos{\\left(\\phi \\right)} \\cos{\\left(\\theta \\right)} - U \\left(\\frac{a^{3}}{4 r^{3}} + \\frac{3 a}{4 r}\\right) \\sin{\\left(\\theta \\right)} \\cos{\\left(\\phi \\right)} \\cos{\\left(\\theta \\right)}\\end{matrix}\\right]$"
      ],
      "text/plain": [
       "Matrix([\n",
       "[                                 -U*(-a**3/(2*r**3) + 3*a/(2*r))*cos(theta)**2 - U*(a**3/(4*r**3) + 3*a/(4*r))*sin(theta)**2],\n",
       "[U*(-a**3/(2*r**3) + 3*a/(2*r))*sin(phi)*sin(theta)*cos(theta) - U*(a**3/(4*r**3) + 3*a/(4*r))*sin(phi)*sin(theta)*cos(theta)],\n",
       "[U*(-a**3/(2*r**3) + 3*a/(2*r))*sin(theta)*cos(phi)*cos(theta) - U*(a**3/(4*r**3) + 3*a/(4*r))*sin(theta)*cos(phi)*cos(theta)]])"
      ]
     },
     "metadata": {},
     "output_type": "display_data"
    }
   ],
   "source": [
    "y_rot = sp.Matrix([[0,0,-1],[0,1,0], [1,0,0]])\n",
    "v_kar_rot = y_rot * v_kar\n",
    "display(v_kar_rot)"
   ]
  },
  {
   "cell_type": "code",
   "execution_count": 19,
   "id": "3cc271af",
   "metadata": {},
   "outputs": [
    {
     "data": {
      "text/latex": [
       "$\\displaystyle \\left[\\begin{matrix}\\sin{\\left(\\theta \\right)} \\cos{\\left(\\phi \\right)} & \\sin{\\left(\\phi \\right)} \\sin{\\left(\\theta \\right)} & \\cos{\\left(\\theta \\right)}\\\\\\cos{\\left(\\phi \\right)} \\cos{\\left(\\theta \\right)} & \\sin{\\left(\\phi \\right)} \\cos{\\left(\\theta \\right)} & - \\sin{\\left(\\theta \\right)}\\\\- \\sin{\\left(\\phi \\right)} & \\cos{\\left(\\phi \\right)} & 0\\end{matrix}\\right]$"
      ],
      "text/plain": [
       "Matrix([\n",
       "[sin(theta)*cos(phi), sin(phi)*sin(theta),  cos(theta)],\n",
       "[cos(phi)*cos(theta), sin(phi)*cos(theta), -sin(theta)],\n",
       "[          -sin(phi),            cos(phi),           0]])"
      ]
     },
     "metadata": {},
     "output_type": "display_data"
    }
   ],
   "source": [
    "kar_til_sf = sf_til_kar.T\n",
    "display(kar_til_sf)"
   ]
  },
  {
   "cell_type": "code",
   "execution_count": 24,
   "id": "a7b0b0fe",
   "metadata": {},
   "outputs": [
    {
     "data": {
      "text/latex": [
       "$\\displaystyle \\left(- U \\left(- \\frac{a^{3}}{2 r^{3}} + \\frac{3 a}{2 r}\\right) \\cos^{2}{\\left(\\theta \\right)} - U \\left(\\frac{a^{3}}{4 r^{3}} + \\frac{3 a}{4 r}\\right) \\sin^{2}{\\left(\\theta \\right)}\\right) \\sin{\\left(\\theta \\right)} \\cos{\\left(\\phi \\right)} + \\left(U \\left(- \\frac{a^{3}}{2 r^{3}} + \\frac{3 a}{2 r}\\right) \\sin{\\left(\\phi \\right)} \\sin{\\left(\\theta \\right)} \\cos{\\left(\\theta \\right)} - U \\left(\\frac{a^{3}}{4 r^{3}} + \\frac{3 a}{4 r}\\right) \\sin{\\left(\\phi \\right)} \\sin{\\left(\\theta \\right)} \\cos{\\left(\\theta \\right)}\\right) \\sin{\\left(\\phi \\right)} \\sin{\\left(\\theta \\right)} + \\left(U \\left(- \\frac{a^{3}}{2 r^{3}} + \\frac{3 a}{2 r}\\right) \\sin{\\left(\\theta \\right)} \\cos{\\left(\\phi \\right)} \\cos{\\left(\\theta \\right)} - U \\left(\\frac{a^{3}}{4 r^{3}} + \\frac{3 a}{4 r}\\right) \\sin{\\left(\\theta \\right)} \\cos{\\left(\\phi \\right)} \\cos{\\left(\\theta \\right)}\\right) \\cos{\\left(\\theta \\right)}$"
      ],
      "text/plain": [
       "(-U*(-a**3/(2*r**3) + 3*a/(2*r))*cos(theta)**2 - U*(a**3/(4*r**3) + 3*a/(4*r))*sin(theta)**2)*sin(theta)*cos(phi) + (U*(-a**3/(2*r**3) + 3*a/(2*r))*sin(phi)*sin(theta)*cos(theta) - U*(a**3/(4*r**3) + 3*a/(4*r))*sin(phi)*sin(theta)*cos(theta))*sin(phi)*sin(theta) + (U*(-a**3/(2*r**3) + 3*a/(2*r))*sin(theta)*cos(phi)*cos(theta) - U*(a**3/(4*r**3) + 3*a/(4*r))*sin(theta)*cos(phi)*cos(theta))*cos(theta)"
      ]
     },
     "metadata": {},
     "output_type": "display_data"
    }
   ],
   "source": [
    "v_sf_rot = kar_til_sf * v_kar_rot\n",
    "display((v_sf_rot[0]))"
   ]
  },
  {
   "cell_type": "code",
   "execution_count": null,
   "id": "a06679d3",
   "metadata": {},
   "outputs": [],
   "source": []
  }
 ],
 "metadata": {
  "kernelspec": {
   "display_name": "Python 3 (ipykernel)",
   "language": "python",
   "name": "python3"
  },
  "language_info": {
   "codemirror_mode": {
    "name": "ipython",
    "version": 3
   },
   "file_extension": ".py",
   "mimetype": "text/x-python",
   "name": "python",
   "nbconvert_exporter": "python",
   "pygments_lexer": "ipython3",
   "version": "3.9.13"
  }
 },
 "nbformat": 4,
 "nbformat_minor": 5
}

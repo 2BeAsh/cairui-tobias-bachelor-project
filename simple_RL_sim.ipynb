{
 "cells": [
  {
   "cell_type": "markdown",
   "id": "0304ee8b",
   "metadata": {},
   "source": [
    "# Formål\n",
    "\n",
    "At bygge en predator prey reinforcement learning model op. \n",
    "Skridt:\n",
    "1) Begge er punktpartikler i vacuum. Predator skal fange prey. Prey står stille.\n"
   ]
  },
  {
   "cell_type": "markdown",
   "id": "09abc0ee",
   "metadata": {},
   "source": [
    "## Imports"
   ]
  },
  {
   "cell_type": "code",
   "execution_count": 23,
   "id": "6604ef34",
   "metadata": {},
   "outputs": [
    {
     "ename": "ModuleNotFoundError",
     "evalue": "No module named 'pygame'",
     "output_type": "error",
     "traceback": [
      "\u001b[1;31m---------------------------------------------------------------------------\u001b[0m",
      "\u001b[1;31mModuleNotFoundError\u001b[0m                       Traceback (most recent call last)",
      "\u001b[1;32m~\\AppData\\Local\\Temp\\ipykernel_27516\\66626644.py\u001b[0m in \u001b[0;36m<module>\u001b[1;34m\u001b[0m\n\u001b[0;32m     10\u001b[0m \u001b[1;32mimport\u001b[0m \u001b[0mnumpy\u001b[0m \u001b[1;32mas\u001b[0m \u001b[0mnp\u001b[0m\u001b[1;33m\u001b[0m\u001b[1;33m\u001b[0m\u001b[0m\n\u001b[0;32m     11\u001b[0m \u001b[1;32mimport\u001b[0m \u001b[0mos\u001b[0m\u001b[1;33m\u001b[0m\u001b[1;33m\u001b[0m\u001b[0m\n\u001b[1;32m---> 12\u001b[1;33m \u001b[1;32mimport\u001b[0m \u001b[0mpygame\u001b[0m\u001b[1;33m\u001b[0m\u001b[1;33m\u001b[0m\u001b[0m\n\u001b[0m",
      "\u001b[1;31mModuleNotFoundError\u001b[0m: No module named 'pygame'"
     ]
    }
   ],
   "source": [
    "import gymnasium as gym\n",
    "from gymnasium import spaces\n",
    "\n",
    "# Stable_baselines3 - The trainer\n",
    "from stable_baselines3 import PPO\n",
    "from stable_baselines3.common.vec_env import DummyVecEnv\n",
    "from stable_baselines3.common.evaluation import evaluate_policy\n",
    "\n",
    "# Helpers\n",
    "import numpy as np\n",
    "import os\n",
    "import pygame"
   ]
  },
  {
   "cell_type": "markdown",
   "id": "77b0d3e3",
   "metadata": {},
   "source": [
    "## Build environment\n",
    "\n",
    "**Actions:** Bevæg afstand og vinkel\n",
    "\n",
    "Predator kan se egen og prey position"
   ]
  },
  {
   "cell_type": "code",
   "execution_count": 25,
   "id": "0bf8f96a",
   "metadata": {},
   "outputs": [],
   "source": [
    "class PredatorPrey(Env):\n",
    "    metadata = {\"render_modes\": [\"human\", \"rgb_array\"], \"render_fps\": 4}\n",
    "    \n",
    "    \n",
    "    def __init__(self, render_mode=None, size=5):\n",
    "        self.size = size  # Boundary size\n",
    "        self.window_size = 512  # PyGame window size\n",
    "\n",
    "        \n",
    "        # Observations are dictionary with agent's and target's location\n",
    "        # Each location is a 2d array with x and y coordinate\n",
    "        \n",
    "        self.observation_space = spaces.Dict(\n",
    "            {\n",
    "                \"agent\": spaces.Box(-size, size, shape=(2,), dtype=np.float32),\n",
    "                \"target\": spaces.Box(-size, size, shape=(2,), dtype=np.float32)\n",
    "            }\n",
    "        )\n",
    "        \n",
    "        # One action, the angle value (constant velocity)\n",
    "        self.action_space = spaces.Box(0, 2*np.pi, shape(1,), dtype=np.float32)\n",
    "        \n",
    "        self.render_mode = render_mode\n",
    "        \n",
    "        self.window = None\n",
    "        self.clock = None"
   ]
  },
  {
   "cell_type": "code",
   "execution_count": null,
   "id": "01b0c146",
   "metadata": {},
   "outputs": [],
   "source": []
  }
 ],
 "metadata": {
  "kernelspec": {
   "display_name": "Python 3 (ipykernel)",
   "language": "python",
   "name": "python3"
  },
  "language_info": {
   "codemirror_mode": {
    "name": "ipython",
    "version": 3
   },
   "file_extension": ".py",
   "mimetype": "text/x-python",
   "name": "python",
   "nbconvert_exporter": "python",
   "pygments_lexer": "ipython3",
   "version": "3.7.15"
  }
 },
 "nbformat": 4,
 "nbformat_minor": 5
}

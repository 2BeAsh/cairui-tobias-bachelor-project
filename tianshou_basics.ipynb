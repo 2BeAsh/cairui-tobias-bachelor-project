{
 "cells": [
  {
   "cell_type": "markdown",
   "id": "18dbe978",
   "metadata": {},
   "source": [
    "## Check if installed"
   ]
  },
  {
   "cell_type": "code",
   "execution_count": 1,
   "id": "069410f8",
   "metadata": {},
   "outputs": [
    {
     "name": "stdout",
     "output_type": "stream",
     "text": [
      "0.4.10\n"
     ]
    }
   ],
   "source": [
    "import tianshou as ts\n",
    "print(ts.__version__)"
   ]
  },
  {
   "cell_type": "markdown",
   "id": "286496c4",
   "metadata": {},
   "source": [
    "## Make an environment"
   ]
  },
  {
   "cell_type": "code",
   "execution_count": 2,
   "id": "491d0da4",
   "metadata": {},
   "outputs": [],
   "source": [
    "import gym\n",
    "\n",
    "env = gym.make(\"CartPole-v0\")  # cart carrying a pole moving on a track\n",
    "\n",
    "# Create 10 environments in train_evns and 100 in test_evns\n",
    "train_envs = ts.env.DummyVectorEnv([lambda: gym.make('CartPole-v0') for _ in range(10)])\n",
    "test_envs = ts.env.DummyVectorEnv([lambda: gym.make('CartPole-v0') for _ in range(100)])"
   ]
  },
  {
   "cell_type": "code",
   "execution_count": 3,
   "id": "d0233fc3",
   "metadata": {},
   "outputs": [],
   "source": [
    "# Can instead import EnvPool to speed up\n",
    "#import envpool - OBS CANNOT INSTALL ENVPOOL ON ANACONDA??!??!\n",
    "#train_envs = envpool.make_gym(\"CartPole-v0\", num_evns=10)\n",
    "#test_envs = envpool.make_gym(\"CartPole-v0\", num_evns=100)"
   ]
  },
  {
   "cell_type": "markdown",
   "id": "d3235ae9",
   "metadata": {},
   "source": [
    "## Build the network"
   ]
  },
  {
   "cell_type": "markdown",
   "id": "66313e64",
   "metadata": {},
   "source": [
    "**Old code where the result did not work. Copy pasted from website instead**\n",
    "import torch, numpy as np\n",
    "from torch import nn\n",
    "\n",
    "class Net(nn.Module):\n",
    "    def __init__(self, state_shape, action_shape):\n",
    "        super().__init__()\n",
    "        self.model = nn.Sequential(\n",
    "            nn.Linear(np.prod(state_shape), 128), nn.ReLU(inplace=True),\n",
    "            nn.Linear(128, 128), nn.ReLU(inplace=True),\n",
    "            nn.Linear(128, 128), nn.ReLU(inplace=True),\n",
    "            nn.Linear(128, np.prod(action_shape)),\n",
    "            )\n",
    "            \n",
    "    def forward(self, obs, state=None, info={}):\n",
    "        if not isinstance(obs, torch.Tensor):\n",
    "            obs = torch.tensor(obs, dtype=torch.float)  \n",
    "        batch = obs.shape[0]\n",
    "        logits = self.model(obs.view(batch, -1))\n",
    "        return logits, state  \n",
    "    \n",
    "state_shape = env.observation_space.shape or env.observation_space.n\n",
    "action_shape = env.observation_space.shape or env.observation_space.n\n",
    "net = Net(state_shape, action_shape)\n",
    "optim = torch.optim.Adam(net.parameters(), lr=1e-3)"
   ]
  },
  {
   "cell_type": "code",
   "execution_count": 4,
   "id": "d7a672d5",
   "metadata": {},
   "outputs": [],
   "source": [
    "import torch, numpy as np\n",
    "from torch import nn\n",
    "\n",
    "class Net(nn.Module):\n",
    "    def __init__(self, state_shape, action_shape):\n",
    "        super().__init__()\n",
    "        self.model = nn.Sequential(\n",
    "            nn.Linear(np.prod(state_shape), 128), nn.ReLU(inplace=True),\n",
    "            nn.Linear(128, 128), nn.ReLU(inplace=True),\n",
    "            nn.Linear(128, 128), nn.ReLU(inplace=True),\n",
    "            nn.Linear(128, np.prod(action_shape)),\n",
    "        )\n",
    "\n",
    "    def forward(self, obs, state=None, info={}):\n",
    "        if not isinstance(obs, torch.Tensor): \n",
    "            obs = torch.tensor(obs, dtype=torch.float)  # If observation is not a tensor, make it a tensor\n",
    "        batch = obs.shape[0]\n",
    "        logits = self.model(obs.view(batch, -1))  # Logits are \"raw output of the neural network\"\n",
    "        return logits, state  \n",
    "\n",
    "state_shape = env.observation_space.shape or env.observation_space.n\n",
    "action_shape = env.action_space.shape or env.action_space.n\n",
    "net = Net(state_shape, action_shape)\n",
    "optim = torch.optim.Adam(net.parameters(), lr=1e-3)"
   ]
  },
  {
   "cell_type": "markdown",
   "id": "3b712fe4",
   "metadata": {},
   "source": [
    "## Setup policy"
   ]
  },
  {
   "cell_type": "code",
   "execution_count": 5,
   "id": "cc34e5d0",
   "metadata": {},
   "outputs": [],
   "source": [
    "#use the neural network \"net\" and the optimizer \"optim\" from above \n",
    "policy = ts.policy.DQNPolicy(net, optim, discount_factor=0.9, estimation_step=3, target_update_freq=320)"
   ]
  },
  {
   "cell_type": "markdown",
   "id": "340b62fb",
   "metadata": {},
   "source": [
    "## Setup collector\n",
    "Collector is a Tianshou concept.\n",
    "\n",
    "\"Allows policty to interact with different types of environments conveniently\".\n",
    "\n",
    "Number of buffers should be the number of environments."
   ]
  },
  {
   "cell_type": "code",
   "execution_count": 6,
   "id": "d6d74cee",
   "metadata": {},
   "outputs": [],
   "source": [
    "train_collector = ts.data.Collector(policy, train_envs, ts.data.VectorReplayBuffer(20000, 10), exploration_noise=True)\n",
    "test_collector = ts.data.Collector(policy, test_envs, exploration_noise=True)"
   ]
  },
  {
   "cell_type": "markdown",
   "id": "00b0733a",
   "metadata": {},
   "source": [
    "## Train policy with a Trainer\n",
    "\n",
    "Several options for trainer. DQN is an off-policy algorithm, so `offpolicy_trainer()` is used. It stops training when `stop_fn` condition is reached."
   ]
  },
  {
   "cell_type": "code",
   "execution_count": 7,
   "id": "b8367961",
   "metadata": {
    "scrolled": false
   },
   "outputs": [
    {
     "name": "stderr",
     "output_type": "stream",
     "text": [
      "C:\\Users\\tobia\\anaconda3\\lib\\site-packages\\tensorflow\\python\\framework\\dtypes.py:513: DeprecationWarning: `np.object` is a deprecated alias for the builtin `object`. To silence this warning, use `object` by itself. Doing this will not modify any behavior and is safe. \n",
      "Deprecated in NumPy 1.20; for more details and guidance: https://numpy.org/devdocs/release/1.20.0-notes.html#deprecations\n",
      "  np.object,\n",
      "C:\\Users\\tobia\\anaconda3\\lib\\site-packages\\tensorflow\\python\\framework\\dtypes.py:521: DeprecationWarning: `np.bool` is a deprecated alias for the builtin `bool`. To silence this warning, use `bool` by itself. Doing this will not modify any behavior and is safe. If you specifically wanted the numpy scalar type, use `np.bool_` here.\n",
      "Deprecated in NumPy 1.20; for more details and guidance: https://numpy.org/devdocs/release/1.20.0-notes.html#deprecations\n",
      "  np.bool,\n",
      "C:\\Users\\tobia\\anaconda3\\lib\\site-packages\\tensorflow\\python\\framework\\tensor_util.py:175: DeprecationWarning: `np.object` is a deprecated alias for the builtin `object`. To silence this warning, use `object` by itself. Doing this will not modify any behavior and is safe. \n",
      "Deprecated in NumPy 1.20; for more details and guidance: https://numpy.org/devdocs/release/1.20.0-notes.html#deprecations\n",
      "  np.object: SlowAppendObjectArrayToTensorProto,\n",
      "C:\\Users\\tobia\\anaconda3\\lib\\site-packages\\tensorflow\\python\\framework\\tensor_util.py:176: DeprecationWarning: `np.bool` is a deprecated alias for the builtin `bool`. To silence this warning, use `bool` by itself. Doing this will not modify any behavior and is safe. If you specifically wanted the numpy scalar type, use `np.bool_` here.\n",
      "Deprecated in NumPy 1.20; for more details and guidance: https://numpy.org/devdocs/release/1.20.0-notes.html#deprecations\n",
      "  np.bool: SlowAppendBoolArrayToTensorProto,\n",
      "C:\\Users\\tobia\\anaconda3\\lib\\site-packages\\tensorflow\\python\\data\\ops\\iterator_ops.py:546: DeprecationWarning: Using or importing the ABCs from 'collections' instead of from 'collections.abc' is deprecated since Python 3.3,and in 3.9 it will stop working\n",
      "  class IteratorBase(collections.Iterator, trackable.Trackable,\n",
      "C:\\Users\\tobia\\anaconda3\\lib\\site-packages\\tensorflow\\python\\data\\ops\\dataset_ops.py:106: DeprecationWarning: Using or importing the ABCs from 'collections' instead of from 'collections.abc' is deprecated since Python 3.3,and in 3.9 it will stop working\n",
      "  class DatasetV2(collections.Iterable, tracking_base.Trackable,\n",
      "C:\\Users\\tobia\\anaconda3\\lib\\site-packages\\tensorflow\\python\\autograph\\utils\\testing.py:21: DeprecationWarning: the imp module is deprecated in favour of importlib; see the module's documentation for alternative uses\n",
      "  import imp\n",
      "C:\\Users\\tobia\\anaconda3\\lib\\site-packages\\keras_preprocessing\\image\\utils.py:23: DeprecationWarning: NEAREST is deprecated and will be removed in Pillow 10 (2023-07-01). Use Resampling.NEAREST or Dither.NONE instead.\n",
      "  'nearest': pil_image.NEAREST,\n",
      "C:\\Users\\tobia\\anaconda3\\lib\\site-packages\\keras_preprocessing\\image\\utils.py:24: DeprecationWarning: BILINEAR is deprecated and will be removed in Pillow 10 (2023-07-01). Use Resampling.BILINEAR instead.\n",
      "  'bilinear': pil_image.BILINEAR,\n",
      "C:\\Users\\tobia\\anaconda3\\lib\\site-packages\\keras_preprocessing\\image\\utils.py:25: DeprecationWarning: BICUBIC is deprecated and will be removed in Pillow 10 (2023-07-01). Use Resampling.BICUBIC instead.\n",
      "  'bicubic': pil_image.BICUBIC,\n",
      "C:\\Users\\tobia\\anaconda3\\lib\\site-packages\\keras_preprocessing\\image\\utils.py:28: DeprecationWarning: HAMMING is deprecated and will be removed in Pillow 10 (2023-07-01). Use Resampling.HAMMING instead.\n",
      "  if hasattr(pil_image, 'HAMMING'):\n",
      "C:\\Users\\tobia\\anaconda3\\lib\\site-packages\\keras_preprocessing\\image\\utils.py:30: DeprecationWarning: BOX is deprecated and will be removed in Pillow 10 (2023-07-01). Use Resampling.BOX instead.\n",
      "  if hasattr(pil_image, 'BOX'):\n",
      "C:\\Users\\tobia\\anaconda3\\lib\\site-packages\\keras_preprocessing\\image\\utils.py:33: DeprecationWarning: LANCZOS is deprecated and will be removed in Pillow 10 (2023-07-01). Use Resampling.LANCZOS instead.\n",
      "  if hasattr(pil_image, 'LANCZOS'):\n",
      "Epoch #1: 10001it [00:15, 635.22it/s, env_step=10000, len=135, loss=0.343, n/ep=0, n/st=10, rew=135.00]                \n"
     ]
    },
    {
     "name": "stdout",
     "output_type": "stream",
     "text": [
      "Epoch #1: test_reward: 156.120000 ± 29.993093, best_reward: 156.120000 ± 29.993093 in #1\n"
     ]
    },
    {
     "name": "stderr",
     "output_type": "stream",
     "text": [
      "Epoch #2: 10001it [00:13, 746.04it/s, env_step=20000, len=149, loss=0.388, n/ep=0, n/st=10, rew=149.00]                \n"
     ]
    },
    {
     "name": "stdout",
     "output_type": "stream",
     "text": [
      "Epoch #2: test_reward: 187.220000 ± 17.330655, best_reward: 187.220000 ± 17.330655 in #2\n"
     ]
    },
    {
     "name": "stderr",
     "output_type": "stream",
     "text": [
      "Epoch #3: 10001it [00:13, 748.41it/s, env_step=30000, len=157, loss=0.095, n/ep=0, n/st=10, rew=157.00]                \n"
     ]
    },
    {
     "name": "stdout",
     "output_type": "stream",
     "text": [
      "Epoch #3: test_reward: 149.790000 ± 10.573831, best_reward: 187.220000 ± 17.330655 in #2\n"
     ]
    },
    {
     "name": "stderr",
     "output_type": "stream",
     "text": [
      "Epoch #4: 10001it [00:13, 768.76it/s, env_step=40000, len=161, loss=0.013, n/ep=0, n/st=10, rew=161.00]                \n"
     ]
    },
    {
     "name": "stdout",
     "output_type": "stream",
     "text": [
      "Epoch #4: test_reward: 149.880000 ± 10.943747, best_reward: 187.220000 ± 17.330655 in #2\n"
     ]
    },
    {
     "name": "stderr",
     "output_type": "stream",
     "text": [
      "Epoch #5: 10001it [00:12, 809.78it/s, env_step=50000, len=128, loss=0.013, n/ep=0, n/st=10, rew=128.00]                \n"
     ]
    },
    {
     "name": "stdout",
     "output_type": "stream",
     "text": [
      "Epoch #5: test_reward: 133.410000 ± 13.350727, best_reward: 187.220000 ± 17.330655 in #2\n"
     ]
    },
    {
     "name": "stderr",
     "output_type": "stream",
     "text": [
      "Epoch #6: 10001it [00:12, 819.25it/s, env_step=60000, len=160, loss=0.018, n/ep=0, n/st=10, rew=160.00]                \n"
     ]
    },
    {
     "name": "stdout",
     "output_type": "stream",
     "text": [
      "Epoch #6: test_reward: 152.690000 ± 10.017679, best_reward: 187.220000 ± 17.330655 in #2\n"
     ]
    },
    {
     "name": "stderr",
     "output_type": "stream",
     "text": [
      "Epoch #7: 10001it [00:11, 845.91it/s, env_step=70000, len=143, loss=0.022, n/ep=0, n/st=10, rew=143.00]                \n"
     ]
    },
    {
     "name": "stdout",
     "output_type": "stream",
     "text": [
      "Epoch #7: test_reward: 133.040000 ± 7.956029, best_reward: 187.220000 ± 17.330655 in #2\n"
     ]
    },
    {
     "name": "stderr",
     "output_type": "stream",
     "text": [
      "Epoch #8: 10001it [00:12, 820.66it/s, env_step=80000, len=167, loss=0.024, n/ep=0, n/st=10, rew=167.00]                \n"
     ]
    },
    {
     "name": "stdout",
     "output_type": "stream",
     "text": [
      "Epoch #8: test_reward: 148.350000 ± 12.129613, best_reward: 187.220000 ± 17.330655 in #2\n"
     ]
    },
    {
     "name": "stderr",
     "output_type": "stream",
     "text": [
      "Epoch #9: 10001it [00:12, 791.13it/s, env_step=90000, len=127, loss=0.050, n/ep=0, n/st=10, rew=127.00]                \n"
     ]
    },
    {
     "name": "stdout",
     "output_type": "stream",
     "text": [
      "Epoch #9: test_reward: 200.000000 ± 0.000000, best_reward: 200.000000 ± 0.000000 in #9\n",
      "Finished training! Use 124.42s\n"
     ]
    }
   ],
   "source": [
    "from torch.utils.tensorboard import SummaryWriter\n",
    "from tianshou.utils import TensorboardLogger\n",
    "writer = SummaryWriter(\"log/dqn\")\n",
    "logger = TensorboardLogger(writer)  # Gets massive warnings if passed into result\n",
    "\n",
    "result = ts.trainer.offpolicy_trainer(\n",
    "    policy, train_collector, test_collector,\n",
    "    max_epoch=10, step_per_epoch=10000, step_per_collect=10,\n",
    "    update_per_step=0.1, episode_per_test=100, batch_size=64,\n",
    "    train_fn=lambda epoch, env_step: policy.set_eps(0.1),\n",
    "    test_fn=lambda epoch, env_step: policy.set_eps(0.05),\n",
    "    stop_fn=lambda mean_rewards: mean_rewards >= env.spec.reward_threshold)\n",
    "print(f'Finished training! Use {result[\"duration\"]}')"
   ]
  },
  {
   "cell_type": "markdown",
   "id": "688b946f",
   "metadata": {},
   "source": [
    "## Save and load policy"
   ]
  },
  {
   "cell_type": "code",
   "execution_count": 8,
   "id": "2ec3c057",
   "metadata": {},
   "outputs": [],
   "source": [
    "if load_file == False:\n",
    "    torch.save(policy.state_dict(), \"dqn.pth\")"
   ]
  },
  {
   "cell_type": "code",
   "execution_count": null,
   "id": "30cbc5b9",
   "metadata": {},
   "outputs": [],
   "source": [
    "if load_file:\n",
    "    policy.load_state_dict(torch.load(\"dqn.pth\"))"
   ]
  },
  {
   "cell_type": "markdown",
   "id": "8e7878a6",
   "metadata": {},
   "source": [
    "## Watch performance"
   ]
  },
  {
   "cell_type": "code",
   "execution_count": 12,
   "id": "7d83f203",
   "metadata": {},
   "outputs": [
    {
     "data": {
      "text/plain": [
       "{'n/ep': 1,\n",
       " 'n/st': 200,\n",
       " 'rews': array([200.]),\n",
       " 'lens': array([200]),\n",
       " 'idxs': array([0]),\n",
       " 'rew': 200.0,\n",
       " 'len': 200.0,\n",
       " 'rew_std': 0.0,\n",
       " 'len_std': 0.0}"
      ]
     },
     "execution_count": 12,
     "metadata": {},
     "output_type": "execute_result"
    }
   ],
   "source": [
    "policy.eval()\n",
    "policy.set_eps(0.05)\n",
    "collector = ts.data.Collector(policy, env, exploration_noise=True)\n",
    "collector.collect(n_episode=1, render=1 / 35)  # 35 fps\n"
   ]
  },
  {
   "cell_type": "code",
   "execution_count": null,
   "id": "bd471ee4",
   "metadata": {},
   "outputs": [],
   "source": []
  }
 ],
 "metadata": {
  "kernelspec": {
   "display_name": "Python 3 (ipykernel)",
   "language": "python",
   "name": "python3"
  },
  "language_info": {
   "codemirror_mode": {
    "name": "ipython",
    "version": 3
   },
   "file_extension": ".py",
   "mimetype": "text/x-python",
   "name": "python",
   "nbconvert_exporter": "python",
   "pygments_lexer": "ipython3",
   "version": "3.7.15"
  }
 },
 "nbformat": 4,
 "nbformat_minor": 5
}

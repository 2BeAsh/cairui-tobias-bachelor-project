{
 "cells": [
  {
   "cell_type": "markdown",
   "id": "eaaa33eb",
   "metadata": {},
   "source": [
    "## Check if installed"
   ]
  },
  {
   "cell_type": "code",
   "execution_count": 1,
   "id": "4ea838a8",
   "metadata": {},
   "outputs": [
    {
     "name": "stdout",
     "output_type": "stream",
     "text": [
      "0.4.10\n"
     ]
    }
   ],
   "source": [
    "import tianshou as ts\n",
    "print(ts.__version__)"
   ]
  },
  {
   "cell_type": "markdown",
   "id": "fca5d998",
   "metadata": {},
   "source": [
    "## Make an environment"
   ]
  },
  {
   "cell_type": "code",
   "execution_count": 2,
   "id": "2f9cb5e9",
   "metadata": {},
   "outputs": [],
   "source": [
    "import gym\n",
    "\n",
    "env = gym.make(\"CartPole-v0\")  # cart carrying a pole moving on a track\n",
    "\n",
    "# Create 10 environments in train_evns and 100 in test_evns\n",
    "train_envs = ts.env.DummyVectorEnv([lambda: gym.make('CartPole-v0') for _ in range(10)])\n",
    "test_envs = ts.env.DummyVectorEnv([lambda: gym.make('CartPole-v0') for _ in range(100)])"
   ]
  },
  {
   "cell_type": "code",
   "execution_count": 3,
   "id": "eb38f745",
   "metadata": {},
   "outputs": [],
   "source": [
    "# Can instead import EnvPool to speed up\n",
    "#import envpool - OBS CANNOT INSTALL ENVPOOL ON ANACONDA??!??!\n",
    "#train_envs = envpool.make_gym(\"CartPole-v0\", num_evns=10)\n",
    "#test_envs = envpool.make_gym(\"CartPole-v0\", num_evns=100)"
   ]
  },
  {
   "cell_type": "markdown",
   "id": "3cb388e9",
   "metadata": {},
   "source": [
    "## Build the network"
   ]
  },
  {
   "cell_type": "markdown",
   "id": "7c3aa1a9",
   "metadata": {},
   "source": [
    "**Old code where the result did not work. Copy pasted from website instead**\n",
    "import torch, numpy as np\n",
    "from torch import nn\n",
    "\n",
    "class Net(nn.Module):\n",
    "    def __init__(self, state_shape, action_shape):\n",
    "        super().__init__()\n",
    "        self.model = nn.Sequential(\n",
    "            nn.Linear(np.prod(state_shape), 128), nn.ReLU(inplace=True),\n",
    "            nn.Linear(128, 128), nn.ReLU(inplace=True),\n",
    "            nn.Linear(128, 128), nn.ReLU(inplace=True),\n",
    "            nn.Linear(128, np.prod(action_shape)),\n",
    "            )\n",
    "            \n",
    "    def forward(self, obs, state=None, info={}):\n",
    "        if not isinstance(obs, torch.Tensor):\n",
    "            obs = torch.tensor(obs, dtype=torch.float)  \n",
    "        batch = obs.shape[0]\n",
    "        logits = self.model(obs.view(batch, -1))\n",
    "        return logits, state  \n",
    "    \n",
    "state_shape = env.observation_space.shape or env.observation_space.n\n",
    "action_shape = env.observation_space.shape or env.observation_space.n\n",
    "net = Net(state_shape, action_shape)\n",
    "optim = torch.optim.Adam(net.parameters(), lr=1e-3)"
   ]
  },
  {
   "cell_type": "code",
   "execution_count": 3,
   "id": "20ee22d6",
   "metadata": {},
   "outputs": [],
   "source": [
    "import torch, numpy as np\n",
    "from torch import nn\n",
    "\n",
    "class Net(nn.Module):\n",
    "    def __init__(self, state_shape, action_shape):\n",
    "        super().__init__()\n",
    "        self.model = nn.Sequential(\n",
    "            nn.Linear(np.prod(state_shape), 128), nn.ReLU(inplace=True),\n",
    "            nn.Linear(128, 128), nn.ReLU(inplace=True),\n",
    "            nn.Linear(128, 128), nn.ReLU(inplace=True),\n",
    "            nn.Linear(128, np.prod(action_shape)),\n",
    "        )\n",
    "\n",
    "    def forward(self, obs, state=None, info={}):\n",
    "        if not isinstance(obs, torch.Tensor): \n",
    "            obs = torch.tensor(obs, dtype=torch.float)  # If observation is not a tensor, make it a tensor\n",
    "        batch = obs.shape[0]\n",
    "        logits = self.model(obs.view(batch, -1))  # Logits are \"raw output of the neural network\"\n",
    "        return logits, state  \n",
    "\n",
    "state_shape = env.observation_space.shape or env.observation_space.n\n",
    "action_shape = env.action_space.shape or env.action_space.n\n",
    "net = Net(state_shape, action_shape)\n",
    "optim = torch.optim.Adam(net.parameters(), lr=1e-3)"
   ]
  },
  {
   "cell_type": "markdown",
   "id": "b881a64a",
   "metadata": {},
   "source": [
    "## Setup policy"
   ]
  },
  {
   "cell_type": "code",
   "execution_count": 4,
   "id": "789a1d7b",
   "metadata": {},
   "outputs": [],
   "source": [
    "#use the neural network \"net\" and the optimizer \"optim\" from above \n",
    "policy = ts.policy.DQNPolicy(net, optim, discount_factor=0.9, estimation_step=3, target_update_freq=320)"
   ]
  },
  {
   "cell_type": "markdown",
   "id": "9c1dcc9e",
   "metadata": {},
   "source": [
    "## Setup collector\n",
    "Collector is a Tianshou concept.\n",
    "\n",
    "\"Allows policty to interact with different types of environments conveniently\".\n",
    "\n",
    "Number of buffers should be the number of environments."
   ]
  },
  {
   "cell_type": "code",
   "execution_count": 5,
   "id": "f70d1471",
   "metadata": {},
   "outputs": [],
   "source": [
    "train_collector = ts.data.Collector(policy, train_envs, ts.data.VectorReplayBuffer(20000, 10), exploration_noise=True)\n",
    "test_collector = ts.data.Collector(policy, test_envs, exploration_noise=True)"
   ]
  },
  {
   "cell_type": "markdown",
   "id": "3101c1ec",
   "metadata": {},
   "source": [
    "## Train policy with a Trainer\n",
    "\n",
    "Several options for trainer. DQN is an off-policy algorithm, so `offpolicy_trainer()` is used. It stops training when `stop_fn` condition is reached."
   ]
  },
  {
   "cell_type": "code",
   "execution_count": 6,
   "id": "88065c0e",
   "metadata": {
    "scrolled": false
   },
   "outputs": [],
   "source": [
    "from torch.utils.tensorboard import SummaryWriter\n",
    "from tianshou.utils import TensorboardLogger\n",
    "#writer = SummaryWriter(\"log/dqn\")\n",
    "#logger = TensorboardLogger(writer)  # Gets massive warnings if passed into result\n",
    "\n",
    "load_model = True  # Train new model or use existing\n",
    "\n",
    "if load_model == False:\n",
    "    result = ts.trainer.offpolicy_trainer(\n",
    "        policy, train_collector, test_collector,\n",
    "        max_epoch=10, step_per_epoch=10000, step_per_collect=10,\n",
    "        update_per_step=0.1, episode_per_test=100, batch_size=64,\n",
    "        train_fn=lambda epoch, env_step: policy.set_eps(0.1),\n",
    "        test_fn=lambda epoch, env_step: policy.set_eps(0.05),\n",
    "        stop_fn=lambda mean_rewards: mean_rewards >= env.spec.reward_threshold)\n",
    "    print(f'Finished training! Use {result[\"duration\"]}')"
   ]
  },
  {
   "cell_type": "markdown",
   "id": "8344c7e3",
   "metadata": {},
   "source": [
    "## Save and load policy"
   ]
  },
  {
   "cell_type": "code",
   "execution_count": 8,
   "id": "a7117817",
   "metadata": {},
   "outputs": [],
   "source": [
    "if load_model == False:\n",
    "    torch.save(policy.state_dict(), \"dqn.pth\")"
   ]
  },
  {
   "cell_type": "code",
   "execution_count": 9,
   "id": "1107c3fd",
   "metadata": {},
   "outputs": [],
   "source": [
    "if load_model:\n",
    "    policy.load_state_dict(torch.load(\"dqn.pth\"))"
   ]
  },
  {
   "cell_type": "markdown",
   "id": "7072941f",
   "metadata": {},
   "source": [
    "## Watch performance"
   ]
  },
  {
   "cell_type": "code",
   "execution_count": 10,
   "id": "a085aa48",
   "metadata": {},
   "outputs": [
    {
     "name": "stderr",
     "output_type": "stream",
     "text": [
      "C:\\Users\\tobia\\anaconda3\\lib\\site-packages\\tianshou\\data\\collector.py:68: UserWarning: Single environment detected, wrap to DummyVectorEnv.\n",
      "  warnings.warn(\"Single environment detected, wrap to DummyVectorEnv.\")\n"
     ]
    },
    {
     "data": {
      "text/plain": [
       "{'n/ep': 1,\n",
       " 'n/st': 200,\n",
       " 'rews': array([200.]),\n",
       " 'lens': array([200]),\n",
       " 'idxs': array([0]),\n",
       " 'rew': 200.0,\n",
       " 'len': 200.0,\n",
       " 'rew_std': 0.0,\n",
       " 'len_std': 0.0}"
      ]
     },
     "execution_count": 10,
     "metadata": {},
     "output_type": "execute_result"
    }
   ],
   "source": [
    "policy.eval()\n",
    "policy.set_eps(0.05)\n",
    "collector = ts.data.Collector(policy, env, exploration_noise=True)\n",
    "collector.collect(n_episode=1, render=1 / 35)  # 35 fps\n",
    "# Warning - The kernel crashes once the animation finishes."
   ]
  },
  {
   "cell_type": "code",
   "execution_count": null,
   "id": "7c16d15d",
   "metadata": {},
   "outputs": [],
   "source": []
  }
 ],
 "metadata": {
  "kernelspec": {
   "display_name": "Python 3 (ipykernel)",
   "language": "python",
   "name": "python3"
  },
  "language_info": {
   "codemirror_mode": {
    "name": "ipython",
    "version": 3
   },
   "file_extension": ".py",
   "mimetype": "text/x-python",
   "name": "python",
   "nbconvert_exporter": "python",
   "pygments_lexer": "ipython3",
   "version": "3.7.15"
  }
 },
 "nbformat": 4,
 "nbformat_minor": 5
}
